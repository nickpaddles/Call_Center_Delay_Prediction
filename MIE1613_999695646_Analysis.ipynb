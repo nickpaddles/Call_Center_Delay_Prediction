{
 "cells": [
  {
   "cell_type": "code",
   "execution_count": 1,
   "id": "1cd552dc-98b5-46f4-8629-957aa97b0a40",
   "metadata": {
    "tags": []
   },
   "outputs": [],
   "source": [
    "import matplotlib\n",
    "import matplotlib.pyplot as plt\n",
    "import seaborn as sns #https://medium.com/@morganjonesartist/color-guide-to-seaborn-palettes-da849406d44f\n",
    "import numpy as np\n",
    "import pandas as pd\n",
    "from datetime import datetime, timedelta\n",
    "\n",
    "\n",
    "\n",
    "import requests\n",
    "\n",
    "\n",
    "import math\n",
    "import matplotlib.font_manager as font_manager\n",
    "import functools\n",
    "from uuid import uuid4\n",
    "\n",
    "import logging\n",
    "from io import StringIO"
   ]
  },
  {
   "cell_type": "markdown",
   "id": "9c032911-9a09-48b8-9639-cb5cc8a22336",
   "metadata": {
    "tags": []
   },
   "source": [
    "# M/M/s "
   ]
  },
  {
   "cell_type": "code",
   "execution_count": 2,
   "id": "ee5d6826-72e1-49b4-8645-e863f9b62849",
   "metadata": {},
   "outputs": [
    {
     "data": {
      "text/html": [
       "<div>\n",
       "<style scoped>\n",
       "    .dataframe tbody tr th:only-of-type {\n",
       "        vertical-align: middle;\n",
       "    }\n",
       "\n",
       "    .dataframe tbody tr th {\n",
       "        vertical-align: top;\n",
       "    }\n",
       "\n",
       "    .dataframe thead th {\n",
       "        text-align: right;\n",
       "    }\n",
       "</style>\n",
       "<table border=\"1\" class=\"dataframe\">\n",
       "  <thead>\n",
       "    <tr style=\"text-align: right;\">\n",
       "      <th></th>\n",
       "      <th>arrival_time</th>\n",
       "      <th>ql</th>\n",
       "      <th>les</th>\n",
       "      <th>numBusy</th>\n",
       "      <th>delay</th>\n",
       "      <th>NI</th>\n",
       "      <th>ql_est</th>\n",
       "      <th>lcs</th>\n",
       "      <th>arr_pct</th>\n",
       "      <th>ql_2_avg</th>\n",
       "      <th>ql_5_avg</th>\n",
       "      <th>ql_10_avg</th>\n",
       "      <th>ql_20_avg</th>\n",
       "      <th>dh_2_avg</th>\n",
       "      <th>dh_5_avg</th>\n",
       "      <th>dh_10_avg</th>\n",
       "      <th>dh_20_avg</th>\n",
       "    </tr>\n",
       "  </thead>\n",
       "  <tbody>\n",
       "    <tr>\n",
       "      <th>0</th>\n",
       "      <td>155.491231</td>\n",
       "      <td>1.0</td>\n",
       "      <td>0.000000</td>\n",
       "      <td>6.0</td>\n",
       "      <td>2.595664</td>\n",
       "      <td>46.611008</td>\n",
       "      <td>1.0</td>\n",
       "      <td>0.0</td>\n",
       "      <td>0.323940</td>\n",
       "      <td>0.0</td>\n",
       "      <td>0.0</td>\n",
       "      <td>0.0</td>\n",
       "      <td>0.0</td>\n",
       "      <td>0.000000</td>\n",
       "      <td>0.00000</td>\n",
       "      <td>0.0</td>\n",
       "      <td>0.0</td>\n",
       "    </tr>\n",
       "    <tr>\n",
       "      <th>1</th>\n",
       "      <td>155.671204</td>\n",
       "      <td>2.0</td>\n",
       "      <td>0.000000</td>\n",
       "      <td>6.0</td>\n",
       "      <td>2.764084</td>\n",
       "      <td>46.611008</td>\n",
       "      <td>2.0</td>\n",
       "      <td>0.0</td>\n",
       "      <td>0.324315</td>\n",
       "      <td>1.5</td>\n",
       "      <td>0.0</td>\n",
       "      <td>0.0</td>\n",
       "      <td>0.0</td>\n",
       "      <td>2.679874</td>\n",
       "      <td>0.00000</td>\n",
       "      <td>0.0</td>\n",
       "      <td>0.0</td>\n",
       "    </tr>\n",
       "    <tr>\n",
       "      <th>2</th>\n",
       "      <td>157.154986</td>\n",
       "      <td>3.0</td>\n",
       "      <td>0.000000</td>\n",
       "      <td>6.0</td>\n",
       "      <td>2.198420</td>\n",
       "      <td>46.611008</td>\n",
       "      <td>3.0</td>\n",
       "      <td>0.0</td>\n",
       "      <td>0.327406</td>\n",
       "      <td>2.5</td>\n",
       "      <td>0.0</td>\n",
       "      <td>0.0</td>\n",
       "      <td>0.0</td>\n",
       "      <td>2.481252</td>\n",
       "      <td>0.00000</td>\n",
       "      <td>0.0</td>\n",
       "      <td>0.0</td>\n",
       "    </tr>\n",
       "    <tr>\n",
       "      <th>3</th>\n",
       "      <td>157.340310</td>\n",
       "      <td>4.0</td>\n",
       "      <td>0.000000</td>\n",
       "      <td>6.0</td>\n",
       "      <td>2.311244</td>\n",
       "      <td>46.611008</td>\n",
       "      <td>4.0</td>\n",
       "      <td>0.0</td>\n",
       "      <td>0.327792</td>\n",
       "      <td>3.5</td>\n",
       "      <td>0.0</td>\n",
       "      <td>0.0</td>\n",
       "      <td>0.0</td>\n",
       "      <td>2.254832</td>\n",
       "      <td>0.00000</td>\n",
       "      <td>0.0</td>\n",
       "      <td>0.0</td>\n",
       "    </tr>\n",
       "    <tr>\n",
       "      <th>4</th>\n",
       "      <td>158.800745</td>\n",
       "      <td>2.0</td>\n",
       "      <td>2.764084</td>\n",
       "      <td>6.0</td>\n",
       "      <td>2.442141</td>\n",
       "      <td>46.611008</td>\n",
       "      <td>2.0</td>\n",
       "      <td>0.0</td>\n",
       "      <td>0.330835</td>\n",
       "      <td>3.0</td>\n",
       "      <td>2.4</td>\n",
       "      <td>0.0</td>\n",
       "      <td>0.0</td>\n",
       "      <td>2.376692</td>\n",
       "      <td>2.46231</td>\n",
       "      <td>0.0</td>\n",
       "      <td>0.0</td>\n",
       "    </tr>\n",
       "  </tbody>\n",
       "</table>\n",
       "</div>"
      ],
      "text/plain": [
       "   arrival_time   ql       les  numBusy     delay         NI  ql_est  lcs  \\\n",
       "0    155.491231  1.0  0.000000      6.0  2.595664  46.611008     1.0  0.0   \n",
       "1    155.671204  2.0  0.000000      6.0  2.764084  46.611008     2.0  0.0   \n",
       "2    157.154986  3.0  0.000000      6.0  2.198420  46.611008     3.0  0.0   \n",
       "3    157.340310  4.0  0.000000      6.0  2.311244  46.611008     4.0  0.0   \n",
       "4    158.800745  2.0  2.764084      6.0  2.442141  46.611008     2.0  0.0   \n",
       "\n",
       "    arr_pct  ql_2_avg  ql_5_avg  ql_10_avg  ql_20_avg  dh_2_avg  dh_5_avg  \\\n",
       "0  0.323940       0.0       0.0        0.0        0.0  0.000000   0.00000   \n",
       "1  0.324315       1.5       0.0        0.0        0.0  2.679874   0.00000   \n",
       "2  0.327406       2.5       0.0        0.0        0.0  2.481252   0.00000   \n",
       "3  0.327792       3.5       0.0        0.0        0.0  2.254832   0.00000   \n",
       "4  0.330835       3.0       2.4        0.0        0.0  2.376692   2.46231   \n",
       "\n",
       "   dh_10_avg  dh_20_avg  \n",
       "0        0.0        0.0  \n",
       "1        0.0        0.0  \n",
       "2        0.0        0.0  \n",
       "3        0.0        0.0  \n",
       "4        0.0        0.0  "
      ]
     },
     "execution_count": 2,
     "metadata": {},
     "output_type": "execute_result"
    }
   ],
   "source": [
    "raw_mms_df = pd.read_csv('mms_SimData.csv')\n",
    "raw_mms_df.head()"
   ]
  },
  {
   "cell_type": "markdown",
   "id": "c4cee53f-3bac-4fe9-95c9-71cc99f36337",
   "metadata": {
    "tags": []
   },
   "source": [
    "## Heuristic Evaluation"
   ]
  },
  {
   "cell_type": "code",
   "execution_count": 3,
   "id": "38fc8d95-9bec-4e7e-bf18-a13bb0f5a2b7",
   "metadata": {
    "tags": []
   },
   "outputs": [
    {
     "name": "stdout",
     "output_type": "stream",
     "text": [
      "NI Estimator MSE: 665.4805289136004\n",
      "QL Estimator MSE: 24.289661751626497\n",
      "LES Estimator MSE: 250.27186886304293\n",
      "lCS Estimator MSE: 267.30609906890135\n"
     ]
    }
   ],
   "source": [
    "# Heuristic Evas\n",
    "#calc mse\n",
    "from sklearn.metrics import mean_squared_error\n",
    "h_eval = raw_mms_df.copy()\n",
    "\n",
    "y_true =  h_eval['delay'].values\n",
    "\n",
    "print(\"NI Estimator MSE: %s\" % (mean_squared_error(y_true,h_eval['NI'].values)))\n",
    "print(\"QL Estimator MSE: %s\" % (mean_squared_error(y_true,h_eval['ql_est'].values)))\n",
    "print(\"LES Estimator MSE: %s\" % (mean_squared_error(y_true,h_eval['les'].values)))\n",
    "print(\"lCS Estimator MSE: %s\" % (mean_squared_error(y_true,h_eval['lcs'].values)))\n"
   ]
  },
  {
   "cell_type": "code",
   "execution_count": 164,
   "id": "855f4202-ee58-446b-a969-9e5c167d7f63",
   "metadata": {
    "tags": []
   },
   "outputs": [
    {
     "name": "stdout",
     "output_type": "stream",
     "text": [
      "(46.611008186873526, 46.33165951589331, 46.890356857853746)\n"
     ]
    },
    {
     "data": {
      "image/png": "[encoded data removed]",
      "text/plain": [
       "<Figure size 600x400 with 1 Axes>"
      ]
     },
     "metadata": {},
     "output_type": "display_data"
    }
   ],
   "source": [
    "fig, ax = plt.subplots(1, 1,figsize=(6, 4))\n",
    "\n",
    "sns.histplot(data=raw_mms_df, x = 'delay',element='step',bins=20,binwidth=5,alpha=0.5,color = 'b')\n",
    "\n",
    "#ax.set_xlim(0, 120)\n",
    "ax.set_title('Distribution of Delays for M/M/s (20 bins, width=5 min)')\n",
    "ax.set_ylabel('Count')\n",
    "ax.set_xlabel('Waiting time in Queue (min)')\n",
    "print(mean_confidence_interval(raw_mms_df['delay']))"
   ]
  },
  {
   "cell_type": "code",
   "execution_count": 165,
   "id": "bde6ae27-3323-4dd9-aa6a-314712ff381b",
   "metadata": {
    "tags": []
   },
   "outputs": [
    {
     "data": {
      "text/plain": [
       "0.1425221855538866"
      ]
     },
     "execution_count": 165,
     "metadata": {},
     "output_type": "execute_result"
    }
   ],
   "source": [
    "sp.sem(raw_mms_df['delay'])"
   ]
  },
  {
   "cell_type": "markdown",
   "id": "c53b5217-8df3-457f-9609-23603eb4440c",
   "metadata": {
    "tags": []
   },
   "source": [
    "## ML Evaluation"
   ]
  },
  {
   "cell_type": "code",
   "execution_count": 41,
   "id": "3dc58313-f975-497b-af92-8e091bc4d5e8",
   "metadata": {
    "tags": []
   },
   "outputs": [
    {
     "name": "stdout",
     "output_type": "stream",
     "text": [
      "32763\n",
      "32419\n",
      "32419\n",
      "32349\n"
     ]
    },
    {
     "data": {
      "text/html": [
       "<div>\n",
       "<style scoped>\n",
       "    .dataframe tbody tr th:only-of-type {\n",
       "        vertical-align: middle;\n",
       "    }\n",
       "\n",
       "    .dataframe tbody tr th {\n",
       "        vertical-align: top;\n",
       "    }\n",
       "\n",
       "    .dataframe thead th {\n",
       "        text-align: right;\n",
       "    }\n",
       "</style>\n",
       "<table border=\"1\" class=\"dataframe\">\n",
       "  <thead>\n",
       "    <tr style=\"text-align: right;\">\n",
       "      <th></th>\n",
       "      <th>ql</th>\n",
       "      <th>les</th>\n",
       "      <th>numBusy</th>\n",
       "      <th>delay</th>\n",
       "      <th>NI</th>\n",
       "      <th>ql_est</th>\n",
       "      <th>lcs</th>\n",
       "      <th>arr_pct</th>\n",
       "      <th>ql_2_avg</th>\n",
       "      <th>ql_5_avg</th>\n",
       "      <th>ql_10_avg</th>\n",
       "      <th>ql_20_avg</th>\n",
       "      <th>dh_2_avg</th>\n",
       "      <th>dh_5_avg</th>\n",
       "      <th>dh_10_avg</th>\n",
       "      <th>dh_20_avg</th>\n",
       "    </tr>\n",
       "  </thead>\n",
       "  <tbody>\n",
       "    <tr>\n",
       "      <th>4</th>\n",
       "      <td>2.0</td>\n",
       "      <td>2.764084</td>\n",
       "      <td>6.0</td>\n",
       "      <td>2.442141</td>\n",
       "      <td>46.611008</td>\n",
       "      <td>2.0</td>\n",
       "      <td>0.000000</td>\n",
       "      <td>0.330835</td>\n",
       "      <td>3.0</td>\n",
       "      <td>2.4</td>\n",
       "      <td>0.0</td>\n",
       "      <td>0.0</td>\n",
       "      <td>2.376692</td>\n",
       "      <td>2.462310</td>\n",
       "      <td>0.0</td>\n",
       "      <td>0.0</td>\n",
       "    </tr>\n",
       "    <tr>\n",
       "      <th>5</th>\n",
       "      <td>3.0</td>\n",
       "      <td>2.764084</td>\n",
       "      <td>6.0</td>\n",
       "      <td>3.926405</td>\n",
       "      <td>46.611008</td>\n",
       "      <td>3.0</td>\n",
       "      <td>2.764084</td>\n",
       "      <td>0.330962</td>\n",
       "      <td>2.5</td>\n",
       "      <td>2.8</td>\n",
       "      <td>0.0</td>\n",
       "      <td>0.0</td>\n",
       "      <td>3.184273</td>\n",
       "      <td>2.728459</td>\n",
       "      <td>0.0</td>\n",
       "      <td>0.0</td>\n",
       "    </tr>\n",
       "    <tr>\n",
       "      <th>6</th>\n",
       "      <td>2.0</td>\n",
       "      <td>2.311244</td>\n",
       "      <td>6.0</td>\n",
       "      <td>4.025717</td>\n",
       "      <td>46.611008</td>\n",
       "      <td>2.0</td>\n",
       "      <td>2.764084</td>\n",
       "      <td>0.332716</td>\n",
       "      <td>2.5</td>\n",
       "      <td>2.8</td>\n",
       "      <td>0.0</td>\n",
       "      <td>0.0</td>\n",
       "      <td>3.976061</td>\n",
       "      <td>2.980785</td>\n",
       "      <td>0.0</td>\n",
       "      <td>0.0</td>\n",
       "    </tr>\n",
       "    <tr>\n",
       "      <th>7</th>\n",
       "      <td>3.0</td>\n",
       "      <td>2.311244</td>\n",
       "      <td>6.0</td>\n",
       "      <td>3.884679</td>\n",
       "      <td>46.611008</td>\n",
       "      <td>3.0</td>\n",
       "      <td>2.311244</td>\n",
       "      <td>0.333121</td>\n",
       "      <td>2.5</td>\n",
       "      <td>2.8</td>\n",
       "      <td>0.0</td>\n",
       "      <td>0.0</td>\n",
       "      <td>3.955198</td>\n",
       "      <td>3.318037</td>\n",
       "      <td>0.0</td>\n",
       "      <td>0.0</td>\n",
       "    </tr>\n",
       "    <tr>\n",
       "      <th>8</th>\n",
       "      <td>4.0</td>\n",
       "      <td>2.311244</td>\n",
       "      <td>6.0</td>\n",
       "      <td>3.948249</td>\n",
       "      <td>46.611008</td>\n",
       "      <td>4.0</td>\n",
       "      <td>2.311244</td>\n",
       "      <td>0.333579</td>\n",
       "      <td>3.5</td>\n",
       "      <td>2.8</td>\n",
       "      <td>0.0</td>\n",
       "      <td>0.0</td>\n",
       "      <td>3.916464</td>\n",
       "      <td>3.645438</td>\n",
       "      <td>0.0</td>\n",
       "      <td>0.0</td>\n",
       "    </tr>\n",
       "  </tbody>\n",
       "</table>\n",
       "</div>"
      ],
      "text/plain": [
       "    ql       les  numBusy     delay         NI  ql_est       lcs   arr_pct  \\\n",
       "4  2.0  2.764084      6.0  2.442141  46.611008     2.0  0.000000  0.330835   \n",
       "5  3.0  2.764084      6.0  3.926405  46.611008     3.0  2.764084  0.330962   \n",
       "6  2.0  2.311244      6.0  4.025717  46.611008     2.0  2.764084  0.332716   \n",
       "7  3.0  2.311244      6.0  3.884679  46.611008     3.0  2.311244  0.333121   \n",
       "8  4.0  2.311244      6.0  3.948249  46.611008     4.0  2.311244  0.333579   \n",
       "\n",
       "   ql_2_avg  ql_5_avg  ql_10_avg  ql_20_avg  dh_2_avg  dh_5_avg  dh_10_avg  \\\n",
       "4       3.0       2.4        0.0        0.0  2.376692  2.462310        0.0   \n",
       "5       2.5       2.8        0.0        0.0  3.184273  2.728459        0.0   \n",
       "6       2.5       2.8        0.0        0.0  3.976061  2.980785        0.0   \n",
       "7       2.5       2.8        0.0        0.0  3.955198  3.318037        0.0   \n",
       "8       3.5       2.8        0.0        0.0  3.916464  3.645438        0.0   \n",
       "\n",
       "   dh_20_avg  \n",
       "4        0.0  \n",
       "5        0.0  \n",
       "6        0.0  \n",
       "7        0.0  \n",
       "8        0.0  "
      ]
     },
     "execution_count": 41,
     "metadata": {},
     "output_type": "execute_result"
    }
   ],
   "source": [
    "# To prepare the model\n",
    "pre_mms = raw_mms_df.copy()\n",
    "\n",
    "#remove ql = 0 -> no delay conditions\n",
    "print(len(pre_mms))\n",
    "pre_mms = pre_mms[pre_mms['ql']>0]\n",
    "print(len(pre_mms))\n",
    "\n",
    "#remove ql = 0 -> no delay conditions\n",
    "print(len(pre_mms))\n",
    "pre_mms = pre_mms[pre_mms['les']>0]\n",
    "print(len(pre_mms))\n",
    "\n",
    "\n",
    "#drop unscaled features:\n",
    "pre_mms.drop(['arrival_time'],axis=1, inplace=True)\n",
    "#Ql estimator\n",
    "\n",
    "\n",
    "pre_mms.to_csv('pre_mms.csv')\n",
    "pre_mms.head()\n"
   ]
  },
  {
   "cell_type": "code",
   "execution_count": 42,
   "id": "f3c81be7-0a05-4ca4-883f-94bcb67a62c5",
   "metadata": {
    "tags": []
   },
   "outputs": [],
   "source": [
    "#train test split\n",
    "from sklearn.model_selection import train_test_split\n",
    "\n",
    "X = pre_mms.copy()\n",
    "y = X['delay']\n",
    "X.drop(columns=['delay'], inplace=True)\n",
    "\n",
    "X_train, X_test, y_train, y_test = train_test_split(X, y, test_size=0.2, random_state=42)\n"
   ]
  },
  {
   "cell_type": "markdown",
   "id": "7dd7623d-d456-417e-835c-243aea7874c5",
   "metadata": {
    "tags": []
   },
   "source": [
    "### Feature Engineering"
   ]
  },
  {
   "cell_type": "code",
   "execution_count": 43,
   "id": "8dfe03c6-68e2-40e6-816e-5746385b9a3e",
   "metadata": {
    "tags": []
   },
   "outputs": [
    {
     "data": {
      "text/plain": [
       "{'ql': 1.7199894151462365,\n",
       " 'les': 1.1867944281381524,\n",
       " 'numBusy': 0.0,\n",
       " 'NI': 0.0057325351336050545,\n",
       " 'ql_est': 1.719568250156522,\n",
       " 'lcs': 1.1596600527961085,\n",
       " 'arr_pct': 0.8158095091927917,\n",
       " 'ql_2_avg': 1.6988878579289644,\n",
       " 'ql_5_avg': 1.644160628494208,\n",
       " 'ql_10_avg': 1.5356367161640856,\n",
       " 'ql_20_avg': 1.3814535991095092,\n",
       " 'dh_2_avg': 3.6925742965989565,\n",
       " 'dh_5_avg': 2.833552518178771,\n",
       " 'dh_10_avg': 2.343016041543442,\n",
       " 'dh_20_avg': 1.8940661348208758}"
      ]
     },
     "execution_count": 43,
     "metadata": {},
     "output_type": "execute_result"
    }
   ],
   "source": [
    "#mutual info\n",
    "from sklearn.feature_selection import mutual_info_regression\n",
    "info = dict(zip(X_train.columns, mutual_info_regression(X_train.values, y_train.values)))\n",
    "\n",
    "info"
   ]
  },
  {
   "cell_type": "code",
   "execution_count": 7,
   "id": "c8d15ca5-40f4-47b9-a46f-0f092864acc8",
   "metadata": {
    "tags": []
   },
   "outputs": [
    {
     "data": {
      "text/plain": [
       "{'numBusy': 0.0,\n",
       " 'NI': 0.005642780128136238,\n",
       " 'arr_pct': 0.8158095091927917,\n",
       " 'lcs': 1.159601269375937,\n",
       " 'les': 1.1867926798698845,\n",
       " 'ql_20_avg': 1.3815354677279785,\n",
       " 'ql_10_avg': 1.5357282189242767,\n",
       " 'ql_5_avg': 1.6423480490349744,\n",
       " 'ql_2_avg': 1.6987142943676785,\n",
       " 'ql_est': 1.7197143991343857,\n",
       " 'ql': 1.719767542643738,\n",
       " 'dh_20_avg': 1.894055193867092,\n",
       " 'dh_10_avg': 2.343016355700918,\n",
       " 'dh_5_avg': 2.833552518178771,\n",
       " 'dh_2_avg': 3.6925739558179664}"
      ]
     },
     "execution_count": 7,
     "metadata": {},
     "output_type": "execute_result"
    }
   ],
   "source": [
    "a = dict(sorted(info.items(), key=lambda item: item[1]))\n",
    "a"
   ]
  },
  {
   "cell_type": "code",
   "execution_count": 8,
   "id": "131b4f2d-057c-467b-a0e7-c40cd96ce63c",
   "metadata": {
    "tags": []
   },
   "outputs": [
    {
     "data": {
      "image/png": "[encoded data removed]",
      "text/plain": [
       "<Figure size 1000x400 with 1 Axes>"
      ]
     },
     "metadata": {},
     "output_type": "display_data"
    }
   ],
   "source": [
    "fig, ax = plt.subplots(figsize=(10,4))\n",
    "\n",
    "sorted_info = dict(sorted(info.items(), key=lambda item: item[1]))\n",
    "val = list(sorted_info.values())\n",
    "val.reverse()\n",
    "index= list(sorted_info.keys())\n",
    "index.reverse()\n",
    "\n",
    "sns.barplot(y=index, x=val,orient='h')#,annot=True)\n",
    "ax.bar_label(ax.containers[0], fontsize=10)\n",
    "ax.set_xlim(0, 4)\n",
    "\n",
    "ax.set_xlabel('MI Score')\n",
    "ax.set_title('Mutual Information Regression by Feature for M/M/s')\n",
    "plt.show()"
   ]
  },
  {
   "cell_type": "markdown",
   "id": "a0a7ab02-3881-41e3-a674-ceb54a7f22d6",
   "metadata": {
    "tags": []
   },
   "source": [
    "### Decision Tree"
   ]
  },
  {
   "cell_type": "code",
   "execution_count": 44,
   "id": "daa99c82-66f7-4d48-ac4a-4967310d8bed",
   "metadata": {
    "tags": []
   },
   "outputs": [
    {
     "name": "stdout",
     "output_type": "stream",
     "text": [
      "DT Regression Estimator MSE: 17.6781293669857\n"
     ]
    }
   ],
   "source": [
    "from sklearn import tree\n",
    "dt_reg = tree.DecisionTreeRegressor(random_state=0,max_depth=3,min_samples_leaf=100)\n",
    "dt_reg.fit(X_train.values, y_train.values)\n",
    "y_pred_dt = dt_reg.predict(X_test.values)\n",
    "print\n",
    "print(\"DT Regression Estimator MSE: %s\" % (mean_squared_error(y_test.values,y_pred_dt)))"
   ]
  },
  {
   "cell_type": "code",
   "execution_count": 45,
   "id": "7a142518-4044-48ff-ac5f-05d4a8bd16cf",
   "metadata": {
    "tags": []
   },
   "outputs": [
    {
     "data": {
      "image/png": "[encoded data removed]",
      "text/plain": [
       "<Figure size 1200x600 with 1 Axes>"
      ]
     },
     "metadata": {},
     "output_type": "display_data"
    }
   ],
   "source": [
    "fig = plt.figure(figsize=(12,6))\n",
    "\n",
    "tree.plot_tree(dt_reg, feature_names=X_train.columns,filled=True)\n",
    "\n",
    "plt.show()"
   ]
  },
  {
   "cell_type": "code",
   "execution_count": 428,
   "id": "cc49ba47-090e-4eb3-9758-8e11871f0cf1",
   "metadata": {},
   "outputs": [
    {
     "name": "stdout",
     "output_type": "stream",
     "text": [
      "{'max_depth': 7}\n"
     ]
    }
   ],
   "source": [
    "#Grid Search\n",
    "from sklearn.model_selection import GridSearchCV\n",
    "\n",
    "dt_param_grid = {'max_depth':np.arange(2,8,1)}\n",
    "scoring_ = 'neg_mean_squared_error'\n",
    "\n",
    "dt_gcv = tree.DecisionTreeRegressor(min_samples_leaf=100)\n",
    "dt_grid_search = GridSearchCV(dt_gcv,dt_param_grid, cv=5, scoring='neg_mean_squared_error',                 \n",
    "                                            refit=True,return_train_score=True,n_jobs=2)\n",
    "\n",
    "dt_grid_search.fit(X_train.values,y_train.values)\n",
    "                           \n",
    "print(dt_grid_search.best_params_)\n",
    "\n",
    "        "
   ]
  },
  {
   "cell_type": "code",
   "execution_count": 429,
   "id": "9f0aa27b-287f-4119-9624-8a20378a08b5",
   "metadata": {
    "tags": []
   },
   "outputs": [
    {
     "data": {
      "text/plain": [
       "array([-59.41390512, -18.55533982,  -6.19786591,  -2.59960868,\n",
       "        -1.83442682,  -1.67669077])"
      ]
     },
     "execution_count": 429,
     "metadata": {},
     "output_type": "execute_result"
    }
   ],
   "source": [
    "dt_grid_search.cv_results_['mean_test_score']"
   ]
  },
  {
   "cell_type": "code",
   "execution_count": 46,
   "id": "abe25b75-6264-4097-bed9-33fab40ed192",
   "metadata": {
    "tags": []
   },
   "outputs": [
    {
     "name": "stdout",
     "output_type": "stream",
     "text": [
      "DT (Grid Searc Regression Estimator MSE: 6.1492345760002625\n"
     ]
    }
   ],
   "source": [
    "dt_reg_grid = tree.DecisionTreeRegressor(max_depth=4,min_samples_leaf=100)\n",
    "dt_reg_grid.fit(X_train.values, y_train.values)\n",
    "y_pred_dt_gcv = dt_reg_grid.predict(X_test.values)\n",
    "\n",
    "print(\"DT (Grid Searc Regression Estimator MSE: %s\" % (mean_squared_error(y_test.values,y_pred_dt_gcv)))"
   ]
  },
  {
   "cell_type": "code",
   "execution_count": 47,
   "id": "758f3d78-7047-4f00-8d82-bb143dc3d8f2",
   "metadata": {
    "tags": []
   },
   "outputs": [
    {
     "data": {
      "text/plain": [
       "16124   -2.224007\n",
       "20582   -2.985541\n",
       "19507    2.739747\n",
       "9211     1.668464\n",
       "18414   -0.901344\n",
       "           ...   \n",
       "28107   -1.194023\n",
       "10324    2.397447\n",
       "18548   -1.991477\n",
       "8846     1.616077\n",
       "1810    -2.238283\n",
       "Name: delay, Length: 6470, dtype: float64"
      ]
     },
     "execution_count": 47,
     "metadata": {},
     "output_type": "execute_result"
    }
   ],
   "source": [
    "y_test -y_pred_dt_gcv\n",
    "\n",
    "fig, ax = plt.subplots(1, 1,figsize=(6, 4))\n",
    "\n",
    "sns.histplot(data=raw_mms_df, x = 'delay',element='step',bins=20,alpha=0.5,color = 'b')\n",
    "\n",
    "#ax.set_xlim(0, 120)\n",
    "ax.set_title('Distribution of Delays for M/M/s')\n",
    "ax.set_ylabel('Count')\n",
    "ax.set_xlabel('Waiting time in Queue (min)')"
   ]
  },
  {
   "cell_type": "code",
   "execution_count": null,
   "id": "065bfcfc-9aca-4658-986c-0f872e5877ad",
   "metadata": {
    "tags": []
   },
   "outputs": [],
   "source": [
    "text_visual = tree.export_text(dt_reg_grid,feature_names=list(X.columns),show_weights=True)\n",
    "print(text_visual)"
   ]
  },
  {
   "cell_type": "code",
   "execution_count": null,
   "id": "66f30e44-dfe2-4dd6-b5d2-c33aacb2705d",
   "metadata": {},
   "outputs": [],
   "source": []
  },
  {
   "cell_type": "markdown",
   "id": "672a81e2-8018-424f-b0e6-e1088537741f",
   "metadata": {
    "tags": []
   },
   "source": [
    "### Random Forest Regression"
   ]
  },
  {
   "cell_type": "code",
   "execution_count": 48,
   "id": "d938a8dd-6656-47d9-a74f-b1060d130c59",
   "metadata": {
    "tags": []
   },
   "outputs": [
    {
     "name": "stdout",
     "output_type": "stream",
     "text": [
      "RF Regression Estimator MSE: 15.918275233056635\n"
     ]
    }
   ],
   "source": [
    "from sklearn.ensemble import RandomForestRegressor\n",
    "\n",
    "rf_reg = RandomForestRegressor(max_depth=3, random_state=0)\n",
    "rf_reg.fit(X_train.values, y_train.values)\n",
    "y_pred_rf = rf_reg.predict(X_test.values)\n",
    "\n",
    "print(\"RF Regression Estimator MSE: %s\" % (mean_squared_error(y_test.values,y_pred_rf)))"
   ]
  },
  {
   "cell_type": "code",
   "execution_count": 49,
   "id": "6719de7c-376a-4901-822a-48f4b2c24ecd",
   "metadata": {
    "tags": []
   },
   "outputs": [
    {
     "name": "stdout",
     "output_type": "stream",
     "text": [
      "{'ql': 0.0, 'les': 0.0, 'numBusy': 0.0, 'NI': 0.0, 'ql_est': 0.0, 'lcs': 0.0, 'arr_pct': 0.0, 'ql_2_avg': 0.0, 'ql_5_avg': 0.0, 'ql_10_avg': 0.0, 'ql_20_avg': 0.0, 'dh_2_avg': 1.0, 'dh_5_avg': 0.0, 'dh_10_avg': 0.0, 'dh_20_avg': 0.0}\n"
     ]
    }
   ],
   "source": [
    "rf_dict = dict(zip(X.columns, rf_reg.feature_importances_))\n",
    "print(rf_dict)"
   ]
  },
  {
   "cell_type": "code",
   "execution_count": 434,
   "id": "a1e5d5c8-7875-4594-8053-f5030ce78c5f",
   "metadata": {
    "tags": []
   },
   "outputs": [
    {
     "name": "stdout",
     "output_type": "stream",
     "text": [
      "{'max_depth': 7}\n"
     ]
    }
   ],
   "source": [
    "#Grid Search\n",
    "rf_param_grid = {'max_depth':np.arange(2,8,1)}\n",
    "scoring_ = 'neg_mean_squared_error'\n",
    "rf_gcv = RandomForestRegressor(min_samples_leaf=100)\n",
    "\n",
    "rf_grid_search = GridSearchCV(rf_gcv,rf_param_grid, cv=5, scoring='neg_mean_squared_error',\n",
    "                              refit=True,return_train_score=True,n_jobs=2)\n",
    "\n",
    "rf_grid_search.fit(X_train.values,y_train.values)\n",
    "\n",
    "print(rf_grid_search.best_params_)\n",
    "\n"
   ]
  },
  {
   "cell_type": "code",
   "execution_count": 435,
   "id": "722ab727-da97-47da-8a8e-c8df4e2e3d99",
   "metadata": {
    "tags": []
   },
   "outputs": [
    {
     "data": {
      "text/plain": [
       "array([-56.86786869, -16.74821291,  -4.92070816,  -2.47734387,\n",
       "        -2.0883421 ,  -2.02172957])"
      ]
     },
     "execution_count": 435,
     "metadata": {},
     "output_type": "execute_result"
    }
   ],
   "source": [
    "rf_grid_search.cv_results_['mean_test_score']"
   ]
  },
  {
   "cell_type": "code",
   "execution_count": 50,
   "id": "d8fa31ec-f350-4439-b816-4394ffca9d86",
   "metadata": {
    "tags": []
   },
   "outputs": [
    {
     "name": "stdout",
     "output_type": "stream",
     "text": [
      "RF (GridSearch) Regression Estimator MSE: 5.203620072393146\n"
     ]
    }
   ],
   "source": [
    "rf_reg_grid = RandomForestRegressor(n_estimators=100,\n",
    "                                    max_depth=4,\n",
    "                                    min_samples_leaf=100)\n",
    "rf_reg_grid.fit(X_train.values, y_train.values)\n",
    "y_pred_rf_gcv = rf_reg_grid.predict(X_test.values)\n",
    "\n",
    "print(\"RF (GridSearch) Regression Estimator MSE: %s\" % (mean_squared_error(y_test.values,y_pred_rf_gcv)))"
   ]
  },
  {
   "cell_type": "markdown",
   "id": "98261feb-2956-4c81-bcb2-7ca613d09529",
   "metadata": {
    "tags": []
   },
   "source": [
    "### Gradient Boosted Regression"
   ]
  },
  {
   "cell_type": "code",
   "execution_count": 51,
   "id": "668756ae-0696-4423-88e6-7d7d3d4e58c9",
   "metadata": {
    "tags": []
   },
   "outputs": [
    {
     "name": "stdout",
     "output_type": "stream",
     "text": [
      "GB Regression Estimator MSE: 0.47667790801057813\n"
     ]
    }
   ],
   "source": [
    "from sklearn.ensemble import GradientBoostingRegressor\n",
    "\n",
    "gb_reg = GradientBoostingRegressor(max_depth=3, random_state=0)\n",
    "gb_reg.fit(X_train.values, y_train.values)\n",
    "y_pred_gb = gb_reg.predict(X_test.values)\n",
    "\n",
    "print(\"GB Regression Estimator MSE: %s\" % (mean_squared_error(y_test.values,y_pred_gb)))"
   ]
  },
  {
   "cell_type": "code",
   "execution_count": 52,
   "id": "24ddbca5-b752-4465-a8ed-aced4f8f276d",
   "metadata": {
    "tags": []
   },
   "outputs": [
    {
     "name": "stdout",
     "output_type": "stream",
     "text": [
      "{'ql': 0.00918733009882051, 'les': 0.00027928175700980986, 'numBusy': 0.0, 'NI': 0.0, 'ql_est': 0.014258401499246242, 'lcs': 2.0749347242464814e-05, 'arr_pct': 0.00015344657738424437, 'ql_2_avg': 0.0004366810766716456, 'ql_5_avg': 1.316426264361573e-05, 'ql_10_avg': 1.6223826233803563e-05, 'ql_20_avg': 1.761517072429446e-05, 'dh_2_avg': 0.9751910900563053, 'dh_5_avg': 0.00014010258630133614, 'dh_10_avg': 6.87952943236244e-05, 'dh_20_avg': 0.00021711844709288987}\n"
     ]
    }
   ],
   "source": [
    "gb_dict = dict(zip(X.columns, gb_reg.feature_importances_))\n",
    "print(gb_dict)"
   ]
  },
  {
   "cell_type": "code",
   "execution_count": 439,
   "id": "0cb7394c-90b0-49a5-919b-c7400366f3dc",
   "metadata": {
    "tags": []
   },
   "outputs": [
    {
     "name": "stdout",
     "output_type": "stream",
     "text": [
      "{'max_depth': 7}\n"
     ]
    }
   ],
   "source": [
    "#Grid Search\n",
    "gb_param_grid = {'max_depth':np.arange(2,8,1)}\n",
    "\n",
    "scoring_ = 'neg_mean_squared_error'\n",
    "gb_gcv = GradientBoostingRegressor(min_samples_leaf=100)\n",
    "\n",
    "gb_grid_search = GridSearchCV(gb_gcv,dt_param_grid, cv=5, scoring='neg_mean_squared_error',\n",
    "                              refit=True,return_train_score=True,n_jobs=2)\n",
    "\n",
    "gb_grid_search.fit(X_train.values,y_train.values)\n",
    "\n",
    "print(gb_grid_search.best_params_)\n"
   ]
  },
  {
   "cell_type": "code",
   "execution_count": 440,
   "id": "170d777e-2778-498f-aaad-038986d96e66",
   "metadata": {
    "tags": []
   },
   "outputs": [
    {
     "data": {
      "text/plain": [
       "array([-1.37355876, -1.07008242, -0.99428579, -0.96871121, -0.97520703,\n",
       "       -0.95395442])"
      ]
     },
     "execution_count": 440,
     "metadata": {},
     "output_type": "execute_result"
    }
   ],
   "source": [
    "gb_grid_search.cv_results_['mean_test_score']"
   ]
  },
  {
   "cell_type": "code",
   "execution_count": 53,
   "id": "e62676ef-d2ba-4d50-a9ac-5eadbbdb55b1",
   "metadata": {
    "tags": []
   },
   "outputs": [
    {
     "name": "stdout",
     "output_type": "stream",
     "text": [
      "GB (GridSearch) Regression Estimator MSE: 0.636164888044796\n"
     ]
    }
   ],
   "source": [
    "gb_reg_grid = GradientBoostingRegressor(n_estimators=100,\n",
    "                                        max_depth=4,\n",
    "                                        min_samples_leaf=100)\n",
    "gb_reg_grid.fit(X_train.values, y_train.values)\n",
    "y_pred_gb_gcv = gb_reg_grid.predict(X_test.values)\n",
    "\n",
    "print(\"GB (GridSearch) Regression Estimator MSE: %s\" % (mean_squared_error(y_test.values,y_pred_gb_gcv)))"
   ]
  },
  {
   "cell_type": "markdown",
   "id": "d18753ca-a333-4bc5-af1c-3ae716694d44",
   "metadata": {
    "tags": []
   },
   "source": [
    "## Combined Results"
   ]
  },
  {
   "cell_type": "code",
   "execution_count": 513,
   "id": "567444c9-a3bf-44b9-adae-cf8b62e8e58c",
   "metadata": {
    "tags": []
   },
   "outputs": [
    {
     "data": {
      "text/html": [
       "<div>\n",
       "<style scoped>\n",
       "    .dataframe tbody tr th:only-of-type {\n",
       "        vertical-align: middle;\n",
       "    }\n",
       "\n",
       "    .dataframe tbody tr th {\n",
       "        vertical-align: top;\n",
       "    }\n",
       "\n",
       "    .dataframe thead th {\n",
       "        text-align: right;\n",
       "    }\n",
       "</style>\n",
       "<table border=\"1\" class=\"dataframe\">\n",
       "  <thead>\n",
       "    <tr style=\"text-align: right;\">\n",
       "      <th></th>\n",
       "      <th>Type</th>\n",
       "      <th>NI_MSE</th>\n",
       "      <th>QL_MSE</th>\n",
       "      <th>LES_MSE</th>\n",
       "      <th>LCS_MSE</th>\n",
       "      <th>DT_MSE</th>\n",
       "      <th>RF_MSE</th>\n",
       "      <th>GB_MSE</th>\n",
       "    </tr>\n",
       "  </thead>\n",
       "  <tbody>\n",
       "    <tr>\n",
       "      <th>0</th>\n",
       "      <td>M/M/S</td>\n",
       "      <td>665.480529</td>\n",
       "      <td>24.289662</td>\n",
       "      <td>250.271869</td>\n",
       "      <td>267.306099</td>\n",
       "      <td>6.149235</td>\n",
       "      <td>5.147683</td>\n",
       "      <td>0.636165</td>\n",
       "    </tr>\n",
       "  </tbody>\n",
       "</table>\n",
       "</div>"
      ],
      "text/plain": [
       "    Type      NI_MSE     QL_MSE     LES_MSE     LCS_MSE    DT_MSE    RF_MSE  \\\n",
       "0  M/M/S  665.480529  24.289662  250.271869  267.306099  6.149235  5.147683   \n",
       "\n",
       "     GB_MSE  \n",
       "0  0.636165  "
      ]
     },
     "execution_count": 513,
     "metadata": {},
     "output_type": "execute_result"
    }
   ],
   "source": [
    "h_eval = raw_mms_df.copy()\n",
    "\n",
    "y_h_true =  h_eval['delay'].values\n",
    "\n",
    "\n",
    "mms_results = pd.DataFrame.from_dict({'Type':'M/M/S',\n",
    "                                      'NI_MSE':[mean_squared_error(y_h_true,h_eval['NI'].values)], \n",
    "                                      'QL_MSE':[mean_squared_error(y_h_true,h_eval['ql_est'].values)],\n",
    "                                      'LES_MSE':[mean_squared_error(y_h_true,h_eval['les'].values)],\n",
    "                                      'LCS_MSE':[mean_squared_error(y_h_true,h_eval['lcs'].values)],\n",
    "                                      'DT_MSE':[mean_squared_error(y_test.values,y_pred_dt_gcv)],\n",
    "                                      'RF_MSE':[mean_squared_error(y_test.values,y_pred_rf_gcv)],\n",
    "                                      'GB_MSE':[mean_squared_error(y_test.values,y_pred_gb_gcv)]\n",
    "                                     })\n",
    "\n",
    "mms_results.head()"
   ]
  },
  {
   "cell_type": "code",
   "execution_count": 161,
   "id": "8b9f7214-1e0d-4a81-acfc-08dc9f38b6d1",
   "metadata": {
    "tags": []
   },
   "outputs": [
    {
     "data": {
      "text/plain": [
       "Text(0.5, 0, 'Gradient Boosted Regression')"
      ]
     },
     "execution_count": 161,
     "metadata": {},
     "output_type": "execute_result"
    },
    {
     "data": {
      "image/png": "[encoded data removed]",
      "text/plain": [
       "<Figure size 1200x300 with 3 Axes>"
      ]
     },
     "metadata": {},
     "output_type": "display_data"
    }
   ],
   "source": [
    "import scipy.stats as sp\n",
    "def mean_confidence_interval(data, confidence=0.95):\n",
    "    a = 1.0*np.array(data)\n",
    "    n = len(a)\n",
    "    m, se = np.mean(a), sp.sem(a)\n",
    "    h = se * sp.t._ppf((1+confidence)/2., n-1)\n",
    "    return m, m-h, m+h\n",
    "\n",
    "\n",
    "fig, ax = plt.subplots(1, 3,figsize=(12, 3))\n",
    "\n",
    "\n",
    "\n",
    "\n",
    "dt_err =y_test.values -y_pred_dt_gcv\n",
    "rf_err = y_test.values -y_pred_rf_gcv\n",
    "gb_err = y_test.values -y_pred_gb_gcv\n",
    "\n",
    "d = {'dt': dt_err, 'rf': rf_err,'gb':gb_err}\n",
    "err_hst = pd.DataFrame(data=d)\n",
    "\n",
    "\n",
    "\n",
    "\n",
    "sns.histplot(data=err_hst,x='dt',element='step',bins=20,binwidth=0.5,alpha=0.5,\n",
    "             color='b',ax=ax[0])\n",
    "sns.histplot(data=err_hst, x = 'rf',element='step',bins=20,binwidth=0.5,alpha=0.5,\n",
    "             color='r',ax=ax[1])\n",
    "sns.histplot(data=err_hst, x = 'gb',element='step',bins=20,binwidth=0.5,alpha=0.5,\n",
    "             color='g',ax=ax[2])\n",
    "\n",
    "ax[0].set_xlim(-20, 20)\n",
    "ax[1].set_xlim(-20, 20)\n",
    "ax[2].set_xlim(-20, 20)\n",
    "ax[0].set_ylim(0, 2500)\n",
    "ax[1].set_ylim(0, 2500)\n",
    "ax[2].set_ylim(0, 2500)\n",
    "\n",
    "ax[1].set_title('Distribution of Prediciton Error for M/M/s Queue (20 bins, width=0.5 min)\\n')\n",
    "\n",
    "ax[0].set_ylabel('Count')\n",
    "ax[1].set_ylabel('')\n",
    "ax[2].set_ylabel('')\n",
    "\n",
    "ax[0].set_xlabel('Decision Tree Regression')\n",
    "ax[1].set_xlabel('Random Forest Regression')\n",
    "ax[2].set_xlabel('Gradient Boosted Regression')\n"
   ]
  },
  {
   "cell_type": "code",
   "execution_count": 76,
   "id": "e2ba95c2-594e-4d1a-ae46-8ad208dd76fc",
   "metadata": {
    "tags": []
   },
   "outputs": [
    {
     "data": {
      "text/html": [
       "<div>\n",
       "<style scoped>\n",
       "    .dataframe tbody tr th:only-of-type {\n",
       "        vertical-align: middle;\n",
       "    }\n",
       "\n",
       "    .dataframe tbody tr th {\n",
       "        vertical-align: top;\n",
       "    }\n",
       "\n",
       "    .dataframe thead th {\n",
       "        text-align: right;\n",
       "    }\n",
       "</style>\n",
       "<table border=\"1\" class=\"dataframe\">\n",
       "  <thead>\n",
       "    <tr style=\"text-align: right;\">\n",
       "      <th></th>\n",
       "      <th>Mean</th>\n",
       "      <th>Upper CI 95%</th>\n",
       "      <th>Lower CI 95%</th>\n",
       "    </tr>\n",
       "  </thead>\n",
       "  <tbody>\n",
       "    <tr>\n",
       "      <th>0</th>\n",
       "      <td>0.051658</td>\n",
       "      <td>-0.008769</td>\n",
       "      <td>0.112084</td>\n",
       "    </tr>\n",
       "    <tr>\n",
       "      <th>1</th>\n",
       "      <td>0.055525</td>\n",
       "      <td>-0.000057</td>\n",
       "      <td>0.111108</td>\n",
       "    </tr>\n",
       "    <tr>\n",
       "      <th>2</th>\n",
       "      <td>0.005636</td>\n",
       "      <td>-0.013803</td>\n",
       "      <td>0.025076</td>\n",
       "    </tr>\n",
       "  </tbody>\n",
       "</table>\n",
       "</div>"
      ],
      "text/plain": [
       "       Mean  Upper CI 95%  Lower CI 95%\n",
       "0  0.051658     -0.008769      0.112084\n",
       "1  0.055525     -0.000057      0.111108\n",
       "2  0.005636     -0.013803      0.025076"
      ]
     },
     "execution_count": 76,
     "metadata": {},
     "output_type": "execute_result"
    }
   ],
   "source": [
    "import scipy.stats as sp\n",
    "def mean_confidence_interval(data, confidence=0.95):\n",
    "    a = 1.0*np.array(data)\n",
    "    n = len(a)\n",
    "    m, se = np.mean(a), sp.sem(a)\n",
    "    h = se * sp.t._ppf((1+confidence)/2., n-1)\n",
    "    return m, m-h, m+h\n",
    "\n",
    "table_mms_err = pd.DataFrame({'Mean':[],'Upper CI 95%':[],'Lower CI 95%':[]})\n",
    "j=0\n",
    "for i in [dt_err,rf_err,gb_err]:\n",
    "    loop_dict ={}\n",
    "    CI = mean_confidence_interval(i)\n",
    "    loop_dict['Mean']=CI[0]\n",
    "    loop_dict['Upper CI 95%']=CI[1]\n",
    "    loop_dict['Lower CI 95%']=CI[2]\n",
    "    df = pd.DataFrame(loop_dict,index=[j])\n",
    "    j=j+1\n",
    "    table_mms_err = pd.concat([table_mms_err,df])\n",
    "table_mms_err"
   ]
  },
  {
   "cell_type": "code",
   "execution_count": 469,
   "id": "9fccc4c3-aaa7-46f9-ab0a-98eff1177436",
   "metadata": {
    "tags": []
   },
   "outputs": [
    {
     "data": {
      "image/png": "[encoded data removed]",
      "text/plain": [
       "<Figure size 600x400 with 1 Axes>"
      ]
     },
     "metadata": {},
     "output_type": "display_data"
    }
   ],
   "source": [
    "#depth chart\n",
    "\n",
    "fig, ax = plt.subplots(figsize=(6,4))\n",
    "dep = [2,3,4,5,6,7]\n",
    "\n",
    "dt_dep = list(dt_grid_search.cv_results_['mean_test_score'])\n",
    "rf_dep = list(rf_grid_search.cv_results_['mean_test_score'])\n",
    "gb_dep = list(gb_grid_search.cv_results_['mean_test_score'])\n",
    "\n",
    "ax.plot(dep,dt_dep)\n",
    "ax.plot(dep,rf_dep)\n",
    "ax.plot(dep,gb_dep)\n",
    "#ax.vlines(x=5, ymin=-100, ymax=10, linewidth=0.5, color='r')\n",
    "ax.legend(['Decision Tree','Random Forest','Gradient Boosted'])\n",
    "\n",
    "ax.set_title('Negative MSE by Max Depth')\n",
    "ax.set_ylabel('Neg MSE')\n",
    "ax.set_xlabel('Max Depth')\n",
    "#ax.set_ylim(-60, 0)\n",
    "#ax.set_xlim(2, 7)\n",
    "\n",
    "plt.show()"
   ]
  },
  {
   "cell_type": "markdown",
   "id": "e0afdb41-b188-4ceb-a3df-ac84c45fb69b",
   "metadata": {
    "tags": []
   },
   "source": [
    "# N-State"
   ]
  },
  {
   "cell_type": "code",
   "execution_count": 80,
   "id": "310b130f-60f9-4675-b178-7bf54dd3da57",
   "metadata": {
    "tags": []
   },
   "outputs": [
    {
     "data": {
      "text/html": [
       "<div>\n",
       "<style scoped>\n",
       "    .dataframe tbody tr th:only-of-type {\n",
       "        vertical-align: middle;\n",
       "    }\n",
       "\n",
       "    .dataframe tbody tr th {\n",
       "        vertical-align: top;\n",
       "    }\n",
       "\n",
       "    .dataframe thead th {\n",
       "        text-align: right;\n",
       "    }\n",
       "</style>\n",
       "<table border=\"1\" class=\"dataframe\">\n",
       "  <thead>\n",
       "    <tr style=\"text-align: right;\">\n",
       "      <th></th>\n",
       "      <th>arrival_time</th>\n",
       "      <th>ql</th>\n",
       "      <th>les</th>\n",
       "      <th>numBusy</th>\n",
       "      <th>delay</th>\n",
       "      <th>queue_type</th>\n",
       "      <th>ql_est</th>\n",
       "      <th>ql_2_avg</th>\n",
       "      <th>ql_5_avg</th>\n",
       "      <th>ql_10_avg</th>\n",
       "      <th>ql_20_avg</th>\n",
       "      <th>dh_2_avg</th>\n",
       "      <th>dh_5_avg</th>\n",
       "      <th>dh_10_avg</th>\n",
       "      <th>dh_20_avg</th>\n",
       "      <th>arr_pct</th>\n",
       "      <th>lcs</th>\n",
       "      <th>NI</th>\n",
       "    </tr>\n",
       "  </thead>\n",
       "  <tbody>\n",
       "    <tr>\n",
       "      <th>0</th>\n",
       "      <td>339.253643</td>\n",
       "      <td>33.0</td>\n",
       "      <td>47.729287</td>\n",
       "      <td>3.0</td>\n",
       "      <td>106.361378</td>\n",
       "      <td>2.0</td>\n",
       "      <td>66.0</td>\n",
       "      <td>0.0</td>\n",
       "      <td>0.0</td>\n",
       "      <td>0.0</td>\n",
       "      <td>0.0</td>\n",
       "      <td>0.000000</td>\n",
       "      <td>0.000000</td>\n",
       "      <td>0.0</td>\n",
       "      <td>0.0</td>\n",
       "      <td>0.706778</td>\n",
       "      <td>0.000000</td>\n",
       "      <td>35.863852</td>\n",
       "    </tr>\n",
       "    <tr>\n",
       "      <th>1</th>\n",
       "      <td>341.373823</td>\n",
       "      <td>34.0</td>\n",
       "      <td>47.729287</td>\n",
       "      <td>3.0</td>\n",
       "      <td>105.483878</td>\n",
       "      <td>2.0</td>\n",
       "      <td>68.0</td>\n",
       "      <td>33.5</td>\n",
       "      <td>0.0</td>\n",
       "      <td>0.0</td>\n",
       "      <td>0.0</td>\n",
       "      <td>105.922628</td>\n",
       "      <td>0.000000</td>\n",
       "      <td>0.0</td>\n",
       "      <td>0.0</td>\n",
       "      <td>0.711195</td>\n",
       "      <td>47.729287</td>\n",
       "      <td>35.863852</td>\n",
       "    </tr>\n",
       "    <tr>\n",
       "      <th>2</th>\n",
       "      <td>343.316047</td>\n",
       "      <td>35.0</td>\n",
       "      <td>47.729287</td>\n",
       "      <td>3.0</td>\n",
       "      <td>105.296837</td>\n",
       "      <td>2.0</td>\n",
       "      <td>70.0</td>\n",
       "      <td>34.5</td>\n",
       "      <td>0.0</td>\n",
       "      <td>0.0</td>\n",
       "      <td>0.0</td>\n",
       "      <td>105.390358</td>\n",
       "      <td>0.000000</td>\n",
       "      <td>0.0</td>\n",
       "      <td>0.0</td>\n",
       "      <td>0.715242</td>\n",
       "      <td>47.729287</td>\n",
       "      <td>35.863852</td>\n",
       "    </tr>\n",
       "    <tr>\n",
       "      <th>3</th>\n",
       "      <td>346.896349</td>\n",
       "      <td>36.0</td>\n",
       "      <td>47.729287</td>\n",
       "      <td>3.0</td>\n",
       "      <td>102.476567</td>\n",
       "      <td>2.0</td>\n",
       "      <td>72.0</td>\n",
       "      <td>35.5</td>\n",
       "      <td>0.0</td>\n",
       "      <td>0.0</td>\n",
       "      <td>0.0</td>\n",
       "      <td>103.886702</td>\n",
       "      <td>0.000000</td>\n",
       "      <td>0.0</td>\n",
       "      <td>0.0</td>\n",
       "      <td>0.722701</td>\n",
       "      <td>47.729287</td>\n",
       "      <td>35.863852</td>\n",
       "    </tr>\n",
       "    <tr>\n",
       "      <th>4</th>\n",
       "      <td>349.206231</td>\n",
       "      <td>37.0</td>\n",
       "      <td>47.729287</td>\n",
       "      <td>3.0</td>\n",
       "      <td>103.065361</td>\n",
       "      <td>2.0</td>\n",
       "      <td>74.0</td>\n",
       "      <td>36.5</td>\n",
       "      <td>35.0</td>\n",
       "      <td>0.0</td>\n",
       "      <td>0.0</td>\n",
       "      <td>102.770964</td>\n",
       "      <td>104.536804</td>\n",
       "      <td>0.0</td>\n",
       "      <td>0.0</td>\n",
       "      <td>0.727513</td>\n",
       "      <td>47.729287</td>\n",
       "      <td>35.863852</td>\n",
       "    </tr>\n",
       "  </tbody>\n",
       "</table>\n",
       "</div>"
      ],
      "text/plain": [
       "   arrival_time    ql        les  numBusy       delay  queue_type  ql_est  \\\n",
       "0    339.253643  33.0  47.729287      3.0  106.361378         2.0    66.0   \n",
       "1    341.373823  34.0  47.729287      3.0  105.483878         2.0    68.0   \n",
       "2    343.316047  35.0  47.729287      3.0  105.296837         2.0    70.0   \n",
       "3    346.896349  36.0  47.729287      3.0  102.476567         2.0    72.0   \n",
       "4    349.206231  37.0  47.729287      3.0  103.065361         2.0    74.0   \n",
       "\n",
       "   ql_2_avg  ql_5_avg  ql_10_avg  ql_20_avg    dh_2_avg    dh_5_avg  \\\n",
       "0       0.0       0.0        0.0        0.0    0.000000    0.000000   \n",
       "1      33.5       0.0        0.0        0.0  105.922628    0.000000   \n",
       "2      34.5       0.0        0.0        0.0  105.390358    0.000000   \n",
       "3      35.5       0.0        0.0        0.0  103.886702    0.000000   \n",
       "4      36.5      35.0        0.0        0.0  102.770964  104.536804   \n",
       "\n",
       "   dh_10_avg  dh_20_avg   arr_pct        lcs         NI  \n",
       "0        0.0        0.0  0.706778   0.000000  35.863852  \n",
       "1        0.0        0.0  0.711195  47.729287  35.863852  \n",
       "2        0.0        0.0  0.715242  47.729287  35.863852  \n",
       "3        0.0        0.0  0.722701  47.729287  35.863852  \n",
       "4        0.0        0.0  0.727513  47.729287  35.863852  "
      ]
     },
     "execution_count": 80,
     "metadata": {},
     "output_type": "execute_result"
    }
   ],
   "source": [
    "raw_nst_df = pd.read_csv('NState_SimData.csv')\n",
    "raw_nst_df.head()"
   ]
  },
  {
   "cell_type": "markdown",
   "id": "9c775efe-48fb-4733-bc39-8ac3e32f0343",
   "metadata": {
    "tags": []
   },
   "source": [
    "## Heuristic Evaluation"
   ]
  },
  {
   "cell_type": "code",
   "execution_count": 81,
   "id": "39fb5e25-d9ea-4e08-abc3-ef138e2071ce",
   "metadata": {
    "tags": []
   },
   "outputs": [
    {
     "name": "stdout",
     "output_type": "stream",
     "text": [
      "NI Estimator MSE: 1217.837759287236\n",
      "QL Estimator MSE: 3289.959878273086\n",
      "LES Estimator MSE: 1921.2228196761296\n",
      "lCS Estimator MSE: 1926.186999059914\n"
     ]
    }
   ],
   "source": [
    "# Q1\n",
    "q1 = raw_nst_df[raw_nst_df['queue_type']==1].copy()\n",
    "\n",
    "\n",
    "y_true =  q1['delay'].values\n",
    "\n",
    "print(\"NI Estimator MSE: %s\" % (mean_squared_error(y_true,q1['NI'].values)))\n",
    "print(\"QL Estimator MSE: %s\" % (mean_squared_error(y_true,q1['ql_est'].values)))\n",
    "print(\"LES Estimator MSE: %s\" % (mean_squared_error(y_true,q1['les'].values)))\n",
    "print(\"lCS Estimator MSE: %s\" % (mean_squared_error(y_true,q1['lcs'].values)))"
   ]
  },
  {
   "cell_type": "code",
   "execution_count": 82,
   "id": "819160de-cc71-4235-b0bb-2d64c28c3092",
   "metadata": {
    "tags": []
   },
   "outputs": [
    {
     "name": "stdout",
     "output_type": "stream",
     "text": [
      "NI Estimator MSE: 3446.683543634759\n",
      "QL Estimator MSE: 3643.7691460292926\n",
      "LES Estimator MSE: 4333.03055459693\n",
      "lCS Estimator MSE: 4380.9824649477805\n"
     ]
    }
   ],
   "source": [
    "#Q2\n",
    "q2 = raw_nst_df[raw_nst_df['queue_type']==2].copy()\n",
    "\n",
    "\n",
    "y_true =  q2['delay'].values\n",
    "\n",
    "print(\"NI Estimator MSE: %s\" % (mean_squared_error(y_true,q2['NI'].values)))\n",
    "print(\"QL Estimator MSE: %s\" % (mean_squared_error(y_true,q2['ql_est'].values)))\n",
    "print(\"LES Estimator MSE: %s\" % (mean_squared_error(y_true,q2['les'].values)))\n",
    "print(\"lCS Estimator MSE: %s\" % (mean_squared_error(y_true,q2['lcs'].values)))"
   ]
  },
  {
   "cell_type": "code",
   "execution_count": 83,
   "id": "7bd69f94-2236-4cb8-bb66-dd467dd7c943",
   "metadata": {
    "tags": []
   },
   "outputs": [
    {
     "name": "stdout",
     "output_type": "stream",
     "text": [
      "NI Estimator MSE: 1918.5139430066645\n",
      "QL Estimator MSE: 3401.185934932971\n",
      "LES Estimator MSE: 2679.4162538907854\n",
      "lCS Estimator MSE: 2697.894369273322\n"
     ]
    }
   ],
   "source": [
    "#Overall\n",
    "overall = raw_nst_df.copy()\n",
    "\n",
    "\n",
    "y_true =  overall['delay'].values\n",
    "\n",
    "print(\"NI Estimator MSE: %s\" % (mean_squared_error(y_true,overall['NI'].values)))\n",
    "print(\"QL Estimator MSE: %s\" % (mean_squared_error(y_true,overall['ql_est'].values)))\n",
    "print(\"LES Estimator MSE: %s\" % (mean_squared_error(y_true,overall['les'].values)))\n",
    "print(\"lCS Estimator MSE: %s\" % (mean_squared_error(y_true,overall['lcs'].values)))"
   ]
  },
  {
   "cell_type": "code",
   "execution_count": 162,
   "id": "43d92c5f-4be0-4f2a-8aa8-85fbcc5a9731",
   "metadata": {
    "tags": []
   },
   "outputs": [
    {
     "data": {
      "text/plain": [
       "Text(0.5, 0, 'Waiting time in Queue (min)')"
      ]
     },
     "execution_count": 162,
     "metadata": {},
     "output_type": "execute_result"
    },
    {
     "data": {
      "image/png": "[encoded data removed]",
      "text/plain": [
       "<Figure size 1200x400 with 2 Axes>"
      ]
     },
     "metadata": {},
     "output_type": "display_data"
    }
   ],
   "source": [
    "fig, ax = plt.subplots(1, 2,figsize=(12, 4))\n",
    "\n",
    "sns.histplot(data=raw_nst_df[raw_nst_df['queue_type']==1], x = 'delay',element='step',bins=20,binwidth=5,alpha=0.5,\n",
    "             color='b',ax=ax[0])\n",
    "sns.histplot(data=raw_nst_df[raw_nst_df['queue_type']==2], x = 'delay',element='step',bins=20,binwidth=5,alpha=0.5,\n",
    "             color='r',ax=ax[1])\n",
    "\n",
    "\n",
    "ax[0].set_title('Distribution of Delays for N-State Queue 1 \\n (20 bins, width=5 min) \\n')\n",
    "ax[0].set_ylabel('Count')\n",
    "ax[0].set_xlabel('Waiting time in Queue (min)')\n",
    "ax[0].set_xlim(-10, 200)\n",
    "ax[1].set_title('Distribution of Delays for N-State Queue 2 \\n (20 bins, width=5 min) \\n')\n",
    "ax[1].set_ylabel('Count')\n",
    "ax[1].set_xlim(-10, 200)\n",
    "ax[1].set_xlabel('Waiting time in Queue (min)')"
   ]
  },
  {
   "cell_type": "code",
   "execution_count": 168,
   "id": "d85e7b4a-7885-4115-9d85-301d8012cbf7",
   "metadata": {
    "tags": []
   },
   "outputs": [
    {
     "name": "stdout",
     "output_type": "stream",
     "text": [
      "(29.378611859269576, 29.093891321071624, 29.663332397467528)\n",
      "(50.00811248053908, 49.30937398088274, 50.706850980195426)\n"
     ]
    }
   ],
   "source": [
    "print(mean_confidence_interval(raw_nst_df[raw_nst_df['queue_type']==1]['delay']))\n",
    "print(mean_confidence_interval(raw_nst_df[raw_nst_df['queue_type']==2]['delay']))"
   ]
  },
  {
   "cell_type": "markdown",
   "id": "f99d9fa5-4c70-4fef-8344-f45365dcbd4a",
   "metadata": {
    "tags": []
   },
   "source": [
    "## Machine Learning Evalulation"
   ]
  },
  {
   "cell_type": "code",
   "execution_count": 85,
   "id": "e6ae92b0-facf-49d2-9d9c-d03049b6dd2a",
   "metadata": {
    "tags": []
   },
   "outputs": [
    {
     "name": "stdout",
     "output_type": "stream",
     "text": [
      "81268\n",
      "68247\n",
      "68247\n",
      "66767\n"
     ]
    },
    {
     "data": {
      "text/html": [
       "<div>\n",
       "<style scoped>\n",
       "    .dataframe tbody tr th:only-of-type {\n",
       "        vertical-align: middle;\n",
       "    }\n",
       "\n",
       "    .dataframe tbody tr th {\n",
       "        vertical-align: top;\n",
       "    }\n",
       "\n",
       "    .dataframe thead th {\n",
       "        text-align: right;\n",
       "    }\n",
       "</style>\n",
       "<table border=\"1\" class=\"dataframe\">\n",
       "  <thead>\n",
       "    <tr style=\"text-align: right;\">\n",
       "      <th></th>\n",
       "      <th>arrival_time</th>\n",
       "      <th>ql</th>\n",
       "      <th>les</th>\n",
       "      <th>numBusy</th>\n",
       "      <th>delay</th>\n",
       "      <th>queue_type</th>\n",
       "      <th>ql_est</th>\n",
       "      <th>ql_2_avg</th>\n",
       "      <th>ql_5_avg</th>\n",
       "      <th>ql_10_avg</th>\n",
       "      <th>ql_20_avg</th>\n",
       "      <th>dh_2_avg</th>\n",
       "      <th>dh_5_avg</th>\n",
       "      <th>dh_10_avg</th>\n",
       "      <th>dh_20_avg</th>\n",
       "      <th>arr_pct</th>\n",
       "      <th>lcs</th>\n",
       "      <th>NI</th>\n",
       "    </tr>\n",
       "  </thead>\n",
       "  <tbody>\n",
       "    <tr>\n",
       "      <th>0</th>\n",
       "      <td>339.253643</td>\n",
       "      <td>33.0</td>\n",
       "      <td>47.729287</td>\n",
       "      <td>3.0</td>\n",
       "      <td>106.361378</td>\n",
       "      <td>2.0</td>\n",
       "      <td>66.0</td>\n",
       "      <td>0.0</td>\n",
       "      <td>0.0</td>\n",
       "      <td>0.0</td>\n",
       "      <td>0.0</td>\n",
       "      <td>0.000000</td>\n",
       "      <td>0.000000</td>\n",
       "      <td>0.0</td>\n",
       "      <td>0.0</td>\n",
       "      <td>0.706778</td>\n",
       "      <td>0.000000</td>\n",
       "      <td>35.863852</td>\n",
       "    </tr>\n",
       "    <tr>\n",
       "      <th>1</th>\n",
       "      <td>341.373823</td>\n",
       "      <td>34.0</td>\n",
       "      <td>47.729287</td>\n",
       "      <td>3.0</td>\n",
       "      <td>105.483878</td>\n",
       "      <td>2.0</td>\n",
       "      <td>68.0</td>\n",
       "      <td>33.5</td>\n",
       "      <td>0.0</td>\n",
       "      <td>0.0</td>\n",
       "      <td>0.0</td>\n",
       "      <td>105.922628</td>\n",
       "      <td>0.000000</td>\n",
       "      <td>0.0</td>\n",
       "      <td>0.0</td>\n",
       "      <td>0.711195</td>\n",
       "      <td>47.729287</td>\n",
       "      <td>35.863852</td>\n",
       "    </tr>\n",
       "    <tr>\n",
       "      <th>2</th>\n",
       "      <td>343.316047</td>\n",
       "      <td>35.0</td>\n",
       "      <td>47.729287</td>\n",
       "      <td>3.0</td>\n",
       "      <td>105.296837</td>\n",
       "      <td>2.0</td>\n",
       "      <td>70.0</td>\n",
       "      <td>34.5</td>\n",
       "      <td>0.0</td>\n",
       "      <td>0.0</td>\n",
       "      <td>0.0</td>\n",
       "      <td>105.390358</td>\n",
       "      <td>0.000000</td>\n",
       "      <td>0.0</td>\n",
       "      <td>0.0</td>\n",
       "      <td>0.715242</td>\n",
       "      <td>47.729287</td>\n",
       "      <td>35.863852</td>\n",
       "    </tr>\n",
       "    <tr>\n",
       "      <th>3</th>\n",
       "      <td>346.896349</td>\n",
       "      <td>36.0</td>\n",
       "      <td>47.729287</td>\n",
       "      <td>3.0</td>\n",
       "      <td>102.476567</td>\n",
       "      <td>2.0</td>\n",
       "      <td>72.0</td>\n",
       "      <td>35.5</td>\n",
       "      <td>0.0</td>\n",
       "      <td>0.0</td>\n",
       "      <td>0.0</td>\n",
       "      <td>103.886702</td>\n",
       "      <td>0.000000</td>\n",
       "      <td>0.0</td>\n",
       "      <td>0.0</td>\n",
       "      <td>0.722701</td>\n",
       "      <td>47.729287</td>\n",
       "      <td>35.863852</td>\n",
       "    </tr>\n",
       "    <tr>\n",
       "      <th>4</th>\n",
       "      <td>349.206231</td>\n",
       "      <td>37.0</td>\n",
       "      <td>47.729287</td>\n",
       "      <td>3.0</td>\n",
       "      <td>103.065361</td>\n",
       "      <td>2.0</td>\n",
       "      <td>74.0</td>\n",
       "      <td>36.5</td>\n",
       "      <td>35.0</td>\n",
       "      <td>0.0</td>\n",
       "      <td>0.0</td>\n",
       "      <td>102.770964</td>\n",
       "      <td>104.536804</td>\n",
       "      <td>0.0</td>\n",
       "      <td>0.0</td>\n",
       "      <td>0.727513</td>\n",
       "      <td>47.729287</td>\n",
       "      <td>35.863852</td>\n",
       "    </tr>\n",
       "  </tbody>\n",
       "</table>\n",
       "</div>"
      ],
      "text/plain": [
       "   arrival_time    ql        les  numBusy       delay  queue_type  ql_est  \\\n",
       "0    339.253643  33.0  47.729287      3.0  106.361378         2.0    66.0   \n",
       "1    341.373823  34.0  47.729287      3.0  105.483878         2.0    68.0   \n",
       "2    343.316047  35.0  47.729287      3.0  105.296837         2.0    70.0   \n",
       "3    346.896349  36.0  47.729287      3.0  102.476567         2.0    72.0   \n",
       "4    349.206231  37.0  47.729287      3.0  103.065361         2.0    74.0   \n",
       "\n",
       "   ql_2_avg  ql_5_avg  ql_10_avg  ql_20_avg    dh_2_avg    dh_5_avg  \\\n",
       "0       0.0       0.0        0.0        0.0    0.000000    0.000000   \n",
       "1      33.5       0.0        0.0        0.0  105.922628    0.000000   \n",
       "2      34.5       0.0        0.0        0.0  105.390358    0.000000   \n",
       "3      35.5       0.0        0.0        0.0  103.886702    0.000000   \n",
       "4      36.5      35.0        0.0        0.0  102.770964  104.536804   \n",
       "\n",
       "   dh_10_avg  dh_20_avg   arr_pct        lcs         NI  \n",
       "0        0.0        0.0  0.706778   0.000000  35.863852  \n",
       "1        0.0        0.0  0.711195  47.729287  35.863852  \n",
       "2        0.0        0.0  0.715242  47.729287  35.863852  \n",
       "3        0.0        0.0  0.722701  47.729287  35.863852  \n",
       "4        0.0        0.0  0.727513  47.729287  35.863852  "
      ]
     },
     "execution_count": 85,
     "metadata": {},
     "output_type": "execute_result"
    }
   ],
   "source": [
    "# To prepare the model\n",
    "pre_nst = raw_nst_df.copy()\n",
    "\n",
    "#remove ql = 0 -> no delay conditions\n",
    "print(len(pre_nst))\n",
    "pre_nst = pre_nst[pre_nst['ql']>0]\n",
    "print(len(pre_nst))\n",
    "\n",
    "#remove ql = 0 -> no delay conditions\n",
    "print(len(pre_nst))\n",
    "pre_nst = pre_nst[pre_nst['les']>0]\n",
    "print(len(pre_nst))\n",
    "\n",
    "#Ql estimator\n",
    "\n",
    "\n",
    "pre_nst.to_csv('pre_nst.csv')\n",
    "pre_nst.head()\n"
   ]
  },
  {
   "cell_type": "code",
   "execution_count": 86,
   "id": "0e5ece85-8400-40b8-81db-772dad7f1314",
   "metadata": {
    "tags": []
   },
   "outputs": [],
   "source": [
    "q1_df = pre_nst[pre_nst['queue_type']==1].copy()\n",
    "q2_df = pre_nst[pre_nst['queue_type']==2].copy()\n",
    "overall_df = pre_nst.copy()"
   ]
  },
  {
   "cell_type": "markdown",
   "id": "7442748d-5890-4fdf-82d1-40f222c3c53b",
   "metadata": {
    "tags": []
   },
   "source": [
    "### Mutual Information By Queue"
   ]
  },
  {
   "cell_type": "markdown",
   "id": "86d621cf-1592-4dce-95e7-a4fd135917b8",
   "metadata": {
    "tags": []
   },
   "source": [
    "#### Q1"
   ]
  },
  {
   "cell_type": "code",
   "execution_count": 119,
   "id": "27261dbf-aaac-414f-bf6c-52a653ff1aeb",
   "metadata": {
    "tags": []
   },
   "outputs": [],
   "source": [
    "X1 = q1_df.copy()\n",
    "y1 = X1['delay']\n",
    "X1.drop(columns=['delay','queue_type'], inplace=True)\n",
    "\n",
    "X_train1, X_test1, y_train1, y_test1 = train_test_split(X1, y1, test_size=0.2, random_state=42)"
   ]
  },
  {
   "cell_type": "code",
   "execution_count": 120,
   "id": "1e2aad5f-5559-4597-8e38-ae523dc46420",
   "metadata": {
    "tags": []
   },
   "outputs": [
    {
     "data": {
      "text/plain": [
       "{'arrival_time': 7.48485332797036,\n",
       " 'ql': 3.393480363781646,\n",
       " 'les': 6.492353595762055,\n",
       " 'numBusy': 5.946525166455885e-05,\n",
       " 'ql_est': 3.3934334473832806,\n",
       " 'ql_2_avg': 3.9376643006097645,\n",
       " 'ql_5_avg': 4.7847055764634,\n",
       " 'ql_10_avg': 5.320531532185709,\n",
       " 'ql_20_avg': 5.813084504931596,\n",
       " 'dh_2_avg': 7.594387947365953,\n",
       " 'dh_5_avg': 7.537668362373855,\n",
       " 'dh_10_avg': 7.510906787261771,\n",
       " 'dh_20_avg': 7.497846299698438,\n",
       " 'arr_pct': 7.4836060525985175,\n",
       " 'lcs': 6.481623579343365,\n",
       " 'NI': 0.011087254334567476}"
      ]
     },
     "execution_count": 120,
     "metadata": {},
     "output_type": "execute_result"
    }
   ],
   "source": [
    "info1 = dict(zip(X_train1.columns, mutual_info_regression(X_train1.values, y_train1.values)))\n",
    "info1"
   ]
  },
  {
   "cell_type": "markdown",
   "id": "d996f0f8-1b6d-4c41-9797-c6b9c70b1519",
   "metadata": {
    "tags": []
   },
   "source": [
    "#### Q2"
   ]
  },
  {
   "cell_type": "code",
   "execution_count": 121,
   "id": "fce753bc-c476-4f90-b568-333ae9304e85",
   "metadata": {
    "tags": []
   },
   "outputs": [],
   "source": [
    "X2 = q2_df.copy()\n",
    "y2 = X2['delay']\n",
    "X2.drop(columns=['delay','queue_type'], inplace=True)\n",
    "\n",
    "X_train2, X_test2, y_train2, y_test2 = train_test_split(X2, y2, test_size=0.2, random_state=42)"
   ]
  },
  {
   "cell_type": "code",
   "execution_count": 122,
   "id": "4a1adc04-22b3-405f-b83b-617b6f6f6310",
   "metadata": {
    "tags": []
   },
   "outputs": [
    {
     "data": {
      "text/plain": [
       "{'arrival_time': 5.578504590413091,\n",
       " 'ql': 3.076901227145258,\n",
       " 'les': 4.43168808257872,\n",
       " 'numBusy': 0.0014915739945084994,\n",
       " 'ql_est': 3.0793695883327716,\n",
       " 'ql_2_avg': 3.4886151098700755,\n",
       " 'ql_5_avg': 4.110642638039916,\n",
       " 'ql_10_avg': 4.571727947373265,\n",
       " 'ql_20_avg': 4.904547863933599,\n",
       " 'dh_2_avg': 5.729095176731837,\n",
       " 'dh_5_avg': 5.641814547169931,\n",
       " 'dh_10_avg': 5.596825696153093,\n",
       " 'dh_20_avg': 5.523770306784126,\n",
       " 'arr_pct': 5.57888576555429,\n",
       " 'lcs': 4.405664390921512,\n",
       " 'NI': 0.0034694615106634075}"
      ]
     },
     "execution_count": 122,
     "metadata": {},
     "output_type": "execute_result"
    }
   ],
   "source": [
    "info2 = dict(zip(X_train2.columns, mutual_info_regression(X_train2.values, y_train2.values)))\n",
    "info2"
   ]
  },
  {
   "cell_type": "markdown",
   "id": "0012b007-2042-4eba-967c-18eaadab0dc1",
   "metadata": {
    "tags": []
   },
   "source": [
    "#### Overall"
   ]
  },
  {
   "cell_type": "code",
   "execution_count": 123,
   "id": "404b1e70-92d5-4d4c-a252-b73c8ce255fc",
   "metadata": {
    "tags": []
   },
   "outputs": [],
   "source": [
    "X_n = q2_df.copy()\n",
    "y_n = X_n['delay']\n",
    "X_n.drop(columns=['delay','queue_type'], inplace=True)\n",
    "\n",
    "X_train_n, X_test_n, y_train_n, y_test_n = train_test_split(X_n, y_n, test_size=0.2, random_state=42)"
   ]
  },
  {
   "cell_type": "code",
   "execution_count": 124,
   "id": "02fca3aa-4e03-4e8e-8388-a0f05bb2f8a9",
   "metadata": {
    "tags": []
   },
   "outputs": [
    {
     "data": {
      "text/plain": [
       "{'arrival_time': 5.573592973977042,\n",
       " 'ql': 3.072030007428324,\n",
       " 'les': 4.422684548089613,\n",
       " 'numBusy': 0.0,\n",
       " 'ql_est': 3.077919440705427,\n",
       " 'ql_2_avg': 3.4880847981210046,\n",
       " 'ql_5_avg': 4.114248650744489,\n",
       " 'ql_10_avg': 4.577630930330653,\n",
       " 'ql_20_avg': 4.9050336961781404,\n",
       " 'dh_2_avg': 5.722038226469094,\n",
       " 'dh_5_avg': 5.642520051371772,\n",
       " 'dh_10_avg': 5.588622133289622,\n",
       " 'dh_20_avg': 5.51975299064434,\n",
       " 'arr_pct': 5.583210696504599,\n",
       " 'lcs': 4.406544811335181,\n",
       " 'NI': 0.004047705095773679}"
      ]
     },
     "execution_count": 124,
     "metadata": {},
     "output_type": "execute_result"
    }
   ],
   "source": [
    "infoN = dict(zip(X_train_n.columns, mutual_info_regression(X_train_n.values, y_train_n.values)))\n",
    "infoN"
   ]
  },
  {
   "cell_type": "code",
   "execution_count": 126,
   "id": "0ad63f4e-67a1-481a-bc1e-d790937cc678",
   "metadata": {
    "tags": []
   },
   "outputs": [
    {
     "data": {
      "image/png": "[encoded data removed]",
      "text/plain": [
       "<Figure size 1600x400 with 2 Axes>"
      ]
     },
     "metadata": {},
     "output_type": "display_data"
    }
   ],
   "source": [
    "fig, ax = plt.subplots(1,2,figsize=(16,4))\n",
    "\n",
    "sort_q1 = dict(sorted(info1.items(), key=lambda item: item[1]))\n",
    "val_q1 = list(sort_q1.values())\n",
    "val_q1.reverse()\n",
    "index_q1= list(sort_q1.keys())\n",
    "index_q1.reverse()\n",
    "\n",
    "sort_q2 = dict(sorted(info2.items(), key=lambda item: item[1]))\n",
    "val_q2 = list(sort_q2.values())\n",
    "val_q2.reverse()\n",
    "index_q2= list(sort_q2.keys())\n",
    "index_q2.reverse()\n",
    "\n",
    "sort_n = dict(sorted(infoN.items(), key=lambda item: item[1]))\n",
    "val_n = list(sort_n.values())\n",
    "val_n.reverse()\n",
    "index_n= list(sort_n.keys())\n",
    "index_n.reverse()\n",
    "\n",
    "sns.barplot(y=index_q1, x=val_q1,orient='h',ax=ax[0])#,annot=True)\n",
    "ax[0].bar_label(ax[0].containers[0], fontsize=10)\n",
    "ax[0].set_xlim(0, 10)\n",
    "\n",
    "sns.barplot(y=index_q2, x=val_q2,orient='h',ax=ax[1])#,annot=True)\n",
    "ax[1].bar_label(ax[1].containers[0], fontsize=10)\n",
    "ax[1].set_xlim(0, 10)\n",
    "'''\n",
    "sns.barplot(y=index_n, x=val_n,orient='h',ax=ax[2])#,annot=True)\n",
    "ax[2].bar_label(ax[2].containers[0], fontsize=10)\n",
    "ax[2].set_xlim(0, 10)\n",
    "'''\n",
    "ax[1].set_xlabel('MI Score')\n",
    "ax[0].set_title('Mutual Information Regression by Feature for Q1')\n",
    "ax[1].set_title('Mutual Information Regression by Feature for Q2')\n",
    "plt.show()"
   ]
  },
  {
   "cell_type": "markdown",
   "id": "6150e652-3404-41a3-8aeb-d2bc9d9fd264",
   "metadata": {
    "tags": []
   },
   "source": [
    "### Model Grid\n"
   ]
  },
  {
   "cell_type": "code",
   "execution_count": 87,
   "id": "875a5211-91c3-49fb-a0fa-304905c3224f",
   "metadata": {
    "tags": []
   },
   "outputs": [],
   "source": [
    "def split_fit_score(df,target):\n",
    "    \n",
    "    #Split\n",
    "    X = df.copy()\n",
    "    y = X[target]\n",
    "    X.drop(columns=['delay','queue_type'], inplace=True)\n",
    "    \n",
    "    X_train, X_test, y_train, y_test = train_test_split(X, y, test_size=0.2, random_state=42)\n",
    "    \n",
    "    #Decision Tree Regression\n",
    "    dt_reg = tree.DecisionTreeRegressor(random_state=0,\n",
    "                                        max_depth=4,\n",
    "                                        min_samples_leaf=100)\n",
    "    dt_reg.fit(X_train.values, y_train.values)\n",
    "    y_pred_dt = dt_reg.predict(X_test.values)\n",
    "    dt_mse = mean_squared_error(y_test.values,y_pred_dt)\n",
    "    print(\"DT Regression Estimator MSE: %s\" % (dt_mse))\n",
    "    \n",
    "    #Random Forest Regression\n",
    "    rf_reg = RandomForestRegressor(random_state=0,\n",
    "                                   max_depth=4,\n",
    "                                   n_estimators=100,\n",
    "                                   min_samples_leaf=100)\n",
    "    rf_reg.fit(X_train.values, y_train.values)\n",
    "    y_pred_rf = rf_reg.predict(X_test.values)\n",
    "    rf_mse = mean_squared_error(y_test.values,y_pred_rf)\n",
    "    print(\"RF Regression Estimator MSE: %s\" % (rf_mse))\n",
    "    \n",
    "    #Gradient Boosted Regression\n",
    "    gb_reg = GradientBoostingRegressor(random_state=0,\n",
    "                                       max_depth=4,\n",
    "                                       n_estimators=100,\n",
    "                                       min_samples_leaf=100)\n",
    "    gb_reg.fit(X_train.values, y_train.values)\n",
    "    y_pred_gb = gb_reg.predict(X_test.values)\n",
    "    gb_mse = mean_squared_error(y_test.values,y_pred_gb)\n",
    "    print(\"GB Regression Estimator MSE: %s\" % (gb_mse))\n",
    "    \n",
    "    output = {}\n",
    "    output['dt_reg'] = {'mdl':dt_reg,'features':X.columns,'mse':dt_mse,'y_true':y_test.values,'y_pred':dt_reg.predict(X_test.values)}\n",
    "    output['rf_reg'] = {'mdl':rf_reg,'features':dict(zip(X.columns, rf_reg.feature_importances_)),'mse':rf_mse,'y_true':y_test.values,'y_pred':rf_reg.predict(X_test.values)}\n",
    "    output['gb_reg'] = {'mdl':gb_reg,'features':dict(zip(X.columns, gb_reg.feature_importances_)),'mse':gb_mse,'y_true':y_test.values,'y_pred':gb_reg.predict(X_test.values)}\n",
    "    \n",
    "    return output"
   ]
  },
  {
   "cell_type": "code",
   "execution_count": 111,
   "id": "100ecd0f-73c1-43c6-8824-7d0e5a08c308",
   "metadata": {
    "tags": []
   },
   "outputs": [
    {
     "name": "stdout",
     "output_type": "stream",
     "text": [
      "q1\n",
      "DT Regression Estimator MSE: 13.946480271375188\n",
      "RF Regression Estimator MSE: 12.756843490628357\n",
      "GB Regression Estimator MSE: 1.1807535472701882\n",
      "q2\n",
      "DT Regression Estimator MSE: 45.17342307641653\n",
      "RF Regression Estimator MSE: 41.15968590115179\n",
      "GB Regression Estimator MSE: 11.240113735896108\n",
      "overall\n",
      "DT Regression Estimator MSE: 22.795801394042996\n",
      "RF Regression Estimator MSE: 20.64287711711101\n",
      "GB Regression Estimator MSE: 3.289482984316497\n"
     ]
    }
   ],
   "source": [
    "df_list = [q1_df,q2_df,overall_df]\n",
    "name_list = ['q1','q2','overall']\n",
    "\n",
    "loop_dict = {}\n",
    "for i,j in enumerate(df_list):\n",
    "    print(name_list[i])\n",
    "    loop_dict[name_list[i]] = split_fit_score(j,'delay')\n",
    "for i in name_list:\n",
    "    for j in ['dt_reg','rf_reg','gb_reg']:\n",
    "        loop_dict[i][j]['features']"
   ]
  },
  {
   "cell_type": "markdown",
   "id": "3390c93e-d6ea-4b89-8053-26cf22f21798",
   "metadata": {
    "tags": []
   },
   "source": [
    "## Combined Results"
   ]
  },
  {
   "cell_type": "code",
   "execution_count": 89,
   "id": "fc8f1967-f6c3-47f9-a145-bd77306a00d4",
   "metadata": {
    "tags": []
   },
   "outputs": [
    {
     "data": {
      "text/html": [
       "<div>\n",
       "<style scoped>\n",
       "    .dataframe tbody tr th:only-of-type {\n",
       "        vertical-align: middle;\n",
       "    }\n",
       "\n",
       "    .dataframe tbody tr th {\n",
       "        vertical-align: top;\n",
       "    }\n",
       "\n",
       "    .dataframe thead th {\n",
       "        text-align: right;\n",
       "    }\n",
       "</style>\n",
       "<table border=\"1\" class=\"dataframe\">\n",
       "  <thead>\n",
       "    <tr style=\"text-align: right;\">\n",
       "      <th></th>\n",
       "      <th>Type</th>\n",
       "      <th>NI_MSE</th>\n",
       "      <th>QL_MSE</th>\n",
       "      <th>LES_MSE</th>\n",
       "      <th>LCS_MSE</th>\n",
       "      <th>DT_MSE</th>\n",
       "      <th>RF_MSE</th>\n",
       "      <th>GB_MSE</th>\n",
       "    </tr>\n",
       "  </thead>\n",
       "  <tbody>\n",
       "    <tr>\n",
       "      <th>0</th>\n",
       "      <td>N-State Q1</td>\n",
       "      <td>1253.205491</td>\n",
       "      <td>3523.517208</td>\n",
       "      <td>1963.443903</td>\n",
       "      <td>1951.522887</td>\n",
       "      <td>13.94648</td>\n",
       "      <td>12.756843</td>\n",
       "      <td>1.180754</td>\n",
       "    </tr>\n",
       "  </tbody>\n",
       "</table>\n",
       "</div>"
      ],
      "text/plain": [
       "         Type       NI_MSE       QL_MSE      LES_MSE      LCS_MSE    DT_MSE  \\\n",
       "0  N-State Q1  1253.205491  3523.517208  1963.443903  1951.522887  13.94648   \n",
       "\n",
       "      RF_MSE    GB_MSE  \n",
       "0  12.756843  1.180754  "
      ]
     },
     "execution_count": 89,
     "metadata": {},
     "output_type": "execute_result"
    }
   ],
   "source": [
    "#Q1\n",
    "\n",
    "h_eval = q1_df.copy()\n",
    "\n",
    "y_h_true =  h_eval['delay'].values\n",
    "\n",
    "Nst_results_q1 = pd.DataFrame.from_dict({'Type':'N-State Q1',\n",
    "                                      'NI_MSE':[mean_squared_error(y_h_true,h_eval['NI'].values)], \n",
    "                                      'QL_MSE':[mean_squared_error(y_h_true,h_eval['ql_est'].values)],\n",
    "                                      'LES_MSE':[mean_squared_error(y_h_true,h_eval['les'].values)],\n",
    "                                      'LCS_MSE':[mean_squared_error(y_h_true,h_eval['lcs'].values)],\n",
    "                                      'DT_MSE':[mean_squared_error(loop_dict['q1']['dt_reg']['y_true'],\n",
    "                                                                   loop_dict['q1']['dt_reg']['y_pred'])],\n",
    "                                      'RF_MSE':[mean_squared_error(loop_dict['q1']['rf_reg']['y_true'],\n",
    "                                                                   loop_dict['q1']['rf_reg']['y_pred'])],\n",
    "                                      'GB_MSE':[mean_squared_error(loop_dict['q1']['gb_reg']['y_true'],\n",
    "                                                                   loop_dict['q1']['gb_reg']['y_pred'])]\n",
    "                                     })\n",
    "\n",
    "Nst_results_q1.head()"
   ]
  },
  {
   "cell_type": "code",
   "execution_count": 90,
   "id": "3d86c0b0-7983-4866-a2e5-e90461320806",
   "metadata": {
    "tags": []
   },
   "outputs": [
    {
     "data": {
      "text/html": [
       "<div>\n",
       "<style scoped>\n",
       "    .dataframe tbody tr th:only-of-type {\n",
       "        vertical-align: middle;\n",
       "    }\n",
       "\n",
       "    .dataframe tbody tr th {\n",
       "        vertical-align: top;\n",
       "    }\n",
       "\n",
       "    .dataframe thead th {\n",
       "        text-align: right;\n",
       "    }\n",
       "</style>\n",
       "<table border=\"1\" class=\"dataframe\">\n",
       "  <thead>\n",
       "    <tr style=\"text-align: right;\">\n",
       "      <th></th>\n",
       "      <th>Type</th>\n",
       "      <th>NI_MSE</th>\n",
       "      <th>QL_MSE</th>\n",
       "      <th>LES_MSE</th>\n",
       "      <th>LCS_MSE</th>\n",
       "      <th>DT_MSE</th>\n",
       "      <th>RF_MSE</th>\n",
       "      <th>GB_MSE</th>\n",
       "    </tr>\n",
       "  </thead>\n",
       "  <tbody>\n",
       "    <tr>\n",
       "      <th>0</th>\n",
       "      <td>N-State Q2</td>\n",
       "      <td>3593.82612</td>\n",
       "      <td>3265.843695</td>\n",
       "      <td>4189.856645</td>\n",
       "      <td>4238.605784</td>\n",
       "      <td>45.173423</td>\n",
       "      <td>41.159686</td>\n",
       "      <td>11.240114</td>\n",
       "    </tr>\n",
       "  </tbody>\n",
       "</table>\n",
       "</div>"
      ],
      "text/plain": [
       "         Type      NI_MSE       QL_MSE      LES_MSE      LCS_MSE     DT_MSE  \\\n",
       "0  N-State Q2  3593.82612  3265.843695  4189.856645  4238.605784  45.173423   \n",
       "\n",
       "      RF_MSE     GB_MSE  \n",
       "0  41.159686  11.240114  "
      ]
     },
     "execution_count": 90,
     "metadata": {},
     "output_type": "execute_result"
    }
   ],
   "source": [
    "#Q1\n",
    "\n",
    "h_eval = q2_df.copy()\n",
    "\n",
    "y_h_true =  h_eval['delay'].values\n",
    "\n",
    "Nst_results_q2 = pd.DataFrame.from_dict({'Type':'N-State Q2',\n",
    "                                      'NI_MSE':[mean_squared_error(y_h_true,h_eval['NI'].values)], \n",
    "                                      'QL_MSE':[mean_squared_error(y_h_true,h_eval['ql_est'].values)],\n",
    "                                      'LES_MSE':[mean_squared_error(y_h_true,h_eval['les'].values)],\n",
    "                                      'LCS_MSE':[mean_squared_error(y_h_true,h_eval['lcs'].values)],\n",
    "                                      'DT_MSE':[mean_squared_error(loop_dict['q2']['dt_reg']['y_true'],\n",
    "                                                                   loop_dict['q2']['dt_reg']['y_pred'])],\n",
    "                                      'RF_MSE':[mean_squared_error(loop_dict['q2']['rf_reg']['y_true'],\n",
    "                                                                   loop_dict['q2']['rf_reg']['y_pred'])],\n",
    "                                      'GB_MSE':[mean_squared_error(loop_dict['q2']['gb_reg']['y_true'],\n",
    "                                                                   loop_dict['q2']['gb_reg']['y_pred'])]\n",
    "                                     })\n",
    "\n",
    "Nst_results_q2.head()"
   ]
  },
  {
   "cell_type": "code",
   "execution_count": 91,
   "id": "a15dfc23-7eb4-4c04-a0cd-1175fa0a317d",
   "metadata": {
    "tags": []
   },
   "outputs": [
    {
     "data": {
      "text/html": [
       "<div>\n",
       "<style scoped>\n",
       "    .dataframe tbody tr th:only-of-type {\n",
       "        vertical-align: middle;\n",
       "    }\n",
       "\n",
       "    .dataframe tbody tr th {\n",
       "        vertical-align: top;\n",
       "    }\n",
       "\n",
       "    .dataframe thead th {\n",
       "        text-align: right;\n",
       "    }\n",
       "</style>\n",
       "<table border=\"1\" class=\"dataframe\">\n",
       "  <thead>\n",
       "    <tr style=\"text-align: right;\">\n",
       "      <th></th>\n",
       "      <th>Type</th>\n",
       "      <th>NI_MSE</th>\n",
       "      <th>QL_MSE</th>\n",
       "      <th>LES_MSE</th>\n",
       "      <th>LCS_MSE</th>\n",
       "      <th>DT_MSE</th>\n",
       "      <th>RF_MSE</th>\n",
       "      <th>GB_MSE</th>\n",
       "    </tr>\n",
       "  </thead>\n",
       "  <tbody>\n",
       "    <tr>\n",
       "      <th>0</th>\n",
       "      <td>N-State Overall</td>\n",
       "      <td>1859.473455</td>\n",
       "      <td>3456.77457</td>\n",
       "      <td>2540.12972</td>\n",
       "      <td>2543.923498</td>\n",
       "      <td>22.795801</td>\n",
       "      <td>20.642877</td>\n",
       "      <td>3.289483</td>\n",
       "    </tr>\n",
       "  </tbody>\n",
       "</table>\n",
       "</div>"
      ],
      "text/plain": [
       "              Type       NI_MSE      QL_MSE     LES_MSE      LCS_MSE  \\\n",
       "0  N-State Overall  1859.473455  3456.77457  2540.12972  2543.923498   \n",
       "\n",
       "      DT_MSE     RF_MSE    GB_MSE  \n",
       "0  22.795801  20.642877  3.289483  "
      ]
     },
     "execution_count": 91,
     "metadata": {},
     "output_type": "execute_result"
    }
   ],
   "source": [
    "h_eval = overall_df.copy()\n",
    "\n",
    "y_h_true =  h_eval['delay'].values\n",
    "\n",
    "Nst_results_overall = pd.DataFrame.from_dict({'Type':'N-State Overall',\n",
    "                                      'NI_MSE':[mean_squared_error(y_h_true,h_eval['NI'].values)], \n",
    "                                      'QL_MSE':[mean_squared_error(y_h_true,h_eval['ql_est'].values)],\n",
    "                                      'LES_MSE':[mean_squared_error(y_h_true,h_eval['les'].values)],\n",
    "                                      'LCS_MSE':[mean_squared_error(y_h_true,h_eval['lcs'].values)],\n",
    "                                      'DT_MSE':[mean_squared_error(loop_dict['overall']['dt_reg']['y_true'],\n",
    "                                                                   loop_dict['overall']['dt_reg']['y_pred'])],\n",
    "                                      'RF_MSE':[mean_squared_error(loop_dict['overall']['rf_reg']['y_true'],\n",
    "                                                                   loop_dict['overall']['rf_reg']['y_pred'])],\n",
    "                                      'GB_MSE':[mean_squared_error(loop_dict['overall']['gb_reg']['y_true'],\n",
    "                                                                   loop_dict['overall']['gb_reg']['y_pred'])]\n",
    "                                     })\n",
    "\n",
    "Nst_results_overall.head()"
   ]
  },
  {
   "cell_type": "code",
   "execution_count": 146,
   "id": "d5d8ad4b-e2d2-4154-8087-77584f27d34e",
   "metadata": {
    "tags": []
   },
   "outputs": [
    {
     "data": {
      "text/plain": [
       "Text(0.5, 0, 'Gradient Boosted Regression')"
      ]
     },
     "execution_count": 146,
     "metadata": {},
     "output_type": "execute_result"
    },
    {
     "data": {
      "image/png": "[encoded data removed]",
      "text/plain": [
       "<Figure size 1200x300 with 3 Axes>"
      ]
     },
     "metadata": {},
     "output_type": "display_data"
    }
   ],
   "source": [
    "fig, ax = plt.subplots(1, 3,figsize=(12, 3))\n",
    "\n",
    "#Q1\n",
    "\n",
    "\n",
    "q1_dt_err =loop_dict['q1']['dt_reg']['y_true'] -loop_dict['q1']['dt_reg']['y_pred']\n",
    "q1_rf_err = loop_dict['q1']['rf_reg']['y_true'] -loop_dict['q1']['rf_reg']['y_pred']\n",
    "q1_gb_err = loop_dict['q1']['gb_reg']['y_true'] -loop_dict['q1']['gb_reg']['y_pred']\n",
    "\n",
    "d = {'dt': q1_dt_err, 'rf': q1_rf_err,'gb':q1_gb_err}\n",
    "err_hst = pd.DataFrame(data=d)\n",
    "\n",
    "\n",
    "\n",
    "\n",
    "sns.histplot(data=err_hst,x='dt',element='step',bins=20,alpha=0.5,\n",
    "             color='b',ax=ax[0],binwidth=0.5)\n",
    "sns.histplot(data=err_hst, x = 'rf',element='step',bins=20,alpha=0.5,\n",
    "             color='r',ax=ax[1],binwidth=0.5)\n",
    "sns.histplot(data=err_hst, x = 'gb',element='step',bins=20,alpha=0.5,\n",
    "             color='g',ax=ax[2],binwidth=0.5)\n",
    "\n",
    "ax[0].set_xlim(-20, 20)\n",
    "ax[1].set_xlim(-20, 20)\n",
    "ax[2].set_xlim(-20, 20)\n",
    "ax[0].set_ylim(0, 3000)\n",
    "ax[1].set_ylim(0, 3000)\n",
    "ax[2].set_ylim(0, 3000)\n",
    "\n",
    "\n",
    "ax[1].set_title('Distribution of Prediciton Error for N-State Queue 1 (20 bins width=0.5 min) \\n')\n",
    "\n",
    "ax[0].set_ylabel('Count')\n",
    "ax[1].set_ylabel('')\n",
    "ax[2].set_ylabel('')\n",
    "\n",
    "ax[0].set_xlabel('Decision Tree Regression')\n",
    "ax[1].set_xlabel('Random Forest Regression')\n",
    "ax[2].set_xlabel('Gradient Boosted Regression')"
   ]
  },
  {
   "cell_type": "code",
   "execution_count": 109,
   "id": "e5c94348-770a-4f2f-8795-340cf9d959bb",
   "metadata": {
    "tags": []
   },
   "outputs": [
    {
     "data": {
      "text/html": [
       "<div>\n",
       "<style scoped>\n",
       "    .dataframe tbody tr th:only-of-type {\n",
       "        vertical-align: middle;\n",
       "    }\n",
       "\n",
       "    .dataframe tbody tr th {\n",
       "        vertical-align: top;\n",
       "    }\n",
       "\n",
       "    .dataframe thead th {\n",
       "        text-align: right;\n",
       "    }\n",
       "</style>\n",
       "<table border=\"1\" class=\"dataframe\">\n",
       "  <thead>\n",
       "    <tr style=\"text-align: right;\">\n",
       "      <th></th>\n",
       "      <th>Mean</th>\n",
       "      <th>Upper CI 95%</th>\n",
       "      <th>Lower CI 95%</th>\n",
       "    </tr>\n",
       "  </thead>\n",
       "  <tbody>\n",
       "    <tr>\n",
       "      <th>0</th>\n",
       "      <td>-0.037882</td>\n",
       "      <td>-0.111473</td>\n",
       "      <td>0.035709</td>\n",
       "    </tr>\n",
       "    <tr>\n",
       "      <th>1</th>\n",
       "      <td>-0.028540</td>\n",
       "      <td>-0.098924</td>\n",
       "      <td>0.041844</td>\n",
       "    </tr>\n",
       "    <tr>\n",
       "      <th>2</th>\n",
       "      <td>-0.000194</td>\n",
       "      <td>-0.021608</td>\n",
       "      <td>0.021220</td>\n",
       "    </tr>\n",
       "  </tbody>\n",
       "</table>\n",
       "</div>"
      ],
      "text/plain": [
       "       Mean  Upper CI 95%  Lower CI 95%\n",
       "0 -0.037882     -0.111473      0.035709\n",
       "1 -0.028540     -0.098924      0.041844\n",
       "2 -0.000194     -0.021608      0.021220"
      ]
     },
     "execution_count": 109,
     "metadata": {},
     "output_type": "execute_result"
    }
   ],
   "source": [
    "table_err = pd.DataFrame({'Mean':[],'Upper CI 95%':[],'Lower CI 95%':[]})\n",
    "j=0\n",
    "loop_err ={}\n",
    "for i in [q1_dt_err,q1_rf_err,q1_gb_err]:\n",
    "    loop_dict ={}\n",
    "    CI = mean_confidence_interval(i)\n",
    "    loop_err['Mean']=CI[0]\n",
    "    loop_err['Upper CI 95%']=CI[1]\n",
    "    loop_err['Lower CI 95%']=CI[2]\n",
    "    df = pd.DataFrame(loop_dict,index=[j])\n",
    "    j=j+1\n",
    "    table_err = pd.concat([table_err,df])\n",
    "table_err"
   ]
  },
  {
   "cell_type": "code",
   "execution_count": 145,
   "id": "a32188a3-6906-4eb6-96af-f0299725d1e6",
   "metadata": {
    "tags": []
   },
   "outputs": [
    {
     "data": {
      "image/png": "[encoded data removed]",
      "text/plain": [
       "<Figure size 1200x300 with 3 Axes>"
      ]
     },
     "metadata": {},
     "output_type": "display_data"
    }
   ],
   "source": [
    "fig, ax = plt.subplots(1, 3,figsize=(12, 3))\n",
    "\n",
    "#Q1\n",
    "\n",
    "\n",
    "q2_dt_err =loop_dict['q2']['dt_reg']['y_true'] -loop_dict['q2']['dt_reg']['y_pred']\n",
    "q2_rf_err = loop_dict['q2']['rf_reg']['y_true'] -loop_dict['q2']['rf_reg']['y_pred']\n",
    "q2_gb_err = loop_dict['q2']['gb_reg']['y_true'] -loop_dict['q2']['gb_reg']['y_pred']\n",
    "\n",
    "d = {'dt': q2_dt_err, 'rf': q2_rf_err,'gb':q2_gb_err}\n",
    "err_hst = pd.DataFrame(data=d)\n",
    "\n",
    "\n",
    "\n",
    "\n",
    "sns.histplot(data=err_hst,x='dt',element='step',bins=20,alpha=0.5,binwidth=0.5,\n",
    "             color='b',ax=ax[0])\n",
    "sns.histplot(data=err_hst, x = 'rf',element='step',bins=20,alpha=0.5,binwidth=0.5,\n",
    "             color='r',ax=ax[1])\n",
    "sns.histplot(data=err_hst, x = 'gb',element='step',bins=20,alpha=0.5,binwidth=0.5,\n",
    "             color='g',ax=ax[2])\n",
    "\n",
    "ax[0].set_xlim(-20, 20)\n",
    "ax[1].set_xlim(-20, 20)\n",
    "ax[2].set_xlim(-20, 20)\n",
    "ax[0].set_ylim(0, 1000)\n",
    "ax[1].set_ylim(0, 1000)\n",
    "ax[2].set_ylim(0, 1000)\n",
    "\n",
    "\n",
    "ax[1].set_title('Distribution of Prediciton Error for N-State Queue 2 (20 bins, width=0.5 min) \\n')\n",
    "\n",
    "ax[0].set_ylabel('Count')\n",
    "ax[1].set_ylabel('')\n",
    "ax[2].set_ylabel('')\n",
    "\n",
    "ax[0].set_xlabel('Decision Tree Regression')\n",
    "ax[1].set_xlabel('Random Forest Regression')\n",
    "ax[2].set_xlabel('Gradient Boosted Regression')\n",
    "plt.show()"
   ]
  },
  {
   "cell_type": "code",
   "execution_count": 116,
   "id": "bf741ba2-4ec6-42ec-b7fd-26b69a62f632",
   "metadata": {
    "tags": []
   },
   "outputs": [
    {
     "data": {
      "text/html": [
       "<div>\n",
       "<style scoped>\n",
       "    .dataframe tbody tr th:only-of-type {\n",
       "        vertical-align: middle;\n",
       "    }\n",
       "\n",
       "    .dataframe tbody tr th {\n",
       "        vertical-align: top;\n",
       "    }\n",
       "\n",
       "    .dataframe thead th {\n",
       "        text-align: right;\n",
       "    }\n",
       "</style>\n",
       "<table border=\"1\" class=\"dataframe\">\n",
       "  <thead>\n",
       "    <tr style=\"text-align: right;\">\n",
       "      <th></th>\n",
       "      <th>Mean</th>\n",
       "      <th>Upper CI 95%</th>\n",
       "      <th>Lower CI 95%</th>\n",
       "    </tr>\n",
       "  </thead>\n",
       "  <tbody>\n",
       "    <tr>\n",
       "      <th>0</th>\n",
       "      <td>0.027908</td>\n",
       "      <td>-0.196183</td>\n",
       "      <td>0.252000</td>\n",
       "    </tr>\n",
       "    <tr>\n",
       "      <th>1</th>\n",
       "      <td>0.082410</td>\n",
       "      <td>-0.131478</td>\n",
       "      <td>0.296299</td>\n",
       "    </tr>\n",
       "    <tr>\n",
       "      <th>2</th>\n",
       "      <td>0.063194</td>\n",
       "      <td>-0.048568</td>\n",
       "      <td>0.174956</td>\n",
       "    </tr>\n",
       "  </tbody>\n",
       "</table>\n",
       "</div>"
      ],
      "text/plain": [
       "       Mean  Upper CI 95%  Lower CI 95%\n",
       "0  0.027908     -0.196183      0.252000\n",
       "1  0.082410     -0.131478      0.296299\n",
       "2  0.063194     -0.048568      0.174956"
      ]
     },
     "execution_count": 116,
     "metadata": {},
     "output_type": "execute_result"
    }
   ],
   "source": [
    "table_err = pd.DataFrame({'Mean':[],'Upper CI 95%':[],'Lower CI 95%':[]})\n",
    "j=0\n",
    "loop_err ={}\n",
    "for i in [q2_dt_err,q2_rf_err,q2_gb_err]:\n",
    "    loop_err ={}\n",
    "    CI = mean_confidence_interval(i)\n",
    "    loop_err['Mean']=CI[0]\n",
    "    loop_err['Upper CI 95%']=CI[1]\n",
    "    loop_err['Lower CI 95%']=CI[2]\n",
    "    df = pd.DataFrame(loop_err,index=[j])\n",
    "    j=j+1\n",
    "    table_err = pd.concat([table_err,df])\n",
    "table_err"
   ]
  },
  {
   "cell_type": "code",
   "execution_count": 163,
   "id": "8a7ac8ae-23ef-4538-a54f-03ad75032eab",
   "metadata": {
    "tags": []
   },
   "outputs": [
    {
     "data": {
      "text/html": [
       "<div>\n",
       "<style scoped>\n",
       "    .dataframe tbody tr th:only-of-type {\n",
       "        vertical-align: middle;\n",
       "    }\n",
       "\n",
       "    .dataframe tbody tr th {\n",
       "        vertical-align: top;\n",
       "    }\n",
       "\n",
       "    .dataframe thead th {\n",
       "        text-align: right;\n",
       "    }\n",
       "</style>\n",
       "<table border=\"1\" class=\"dataframe\">\n",
       "  <thead>\n",
       "    <tr style=\"text-align: right;\">\n",
       "      <th></th>\n",
       "      <th>Mean</th>\n",
       "      <th>Upper CI 95%</th>\n",
       "      <th>Lower CI 95%</th>\n",
       "    </tr>\n",
       "  </thead>\n",
       "  <tbody>\n",
       "    <tr>\n",
       "      <th>0</th>\n",
       "      <td>-0.012021</td>\n",
       "      <td>-0.093010</td>\n",
       "      <td>0.068967</td>\n",
       "    </tr>\n",
       "    <tr>\n",
       "      <th>1</th>\n",
       "      <td>-0.006043</td>\n",
       "      <td>-0.083112</td>\n",
       "      <td>0.071027</td>\n",
       "    </tr>\n",
       "    <tr>\n",
       "      <th>2</th>\n",
       "      <td>0.023397</td>\n",
       "      <td>-0.007366</td>\n",
       "      <td>0.054159</td>\n",
       "    </tr>\n",
       "  </tbody>\n",
       "</table>\n",
       "</div>"
      ],
      "text/plain": [
       "       Mean  Upper CI 95%  Lower CI 95%\n",
       "0 -0.012021     -0.093010      0.068967\n",
       "1 -0.006043     -0.083112      0.071027\n",
       "2  0.023397     -0.007366      0.054159"
      ]
     },
     "execution_count": 163,
     "metadata": {},
     "output_type": "execute_result"
    }
   ],
   "source": [
    "o_dt_err =loop_dict['overall']['dt_reg']['y_true'] -loop_dict['overall']['dt_reg']['y_pred']\n",
    "o_rf_err = loop_dict['overall']['rf_reg']['y_true'] -loop_dict['overall']['rf_reg']['y_pred']\n",
    "o_gb_err = loop_dict['overall']['gb_reg']['y_true'] -loop_dict['overall']['gb_reg']['y_pred']\n",
    "\n",
    "\n",
    "table_err = pd.DataFrame({'Mean':[],'Upper CI 95%':[],'Lower CI 95%':[]})\n",
    "j=0\n",
    "loop_err ={}\n",
    "for i in [o_dt_err,o_rf_err,o_gb_err]:\n",
    "    loop_err ={}\n",
    "    CI = mean_confidence_interval(i)\n",
    "    loop_err['Mean']=CI[0]\n",
    "    loop_err['Upper CI 95%']=CI[1]\n",
    "    loop_err['Lower CI 95%']=CI[2]\n",
    "    df = pd.DataFrame(loop_err,index=[j])\n",
    "    j=j+1\n",
    "    table_err = pd.concat([table_err,df])\n",
    "table_err"
   ]
  },
  {
   "cell_type": "markdown",
   "id": "9d199cf6-87f8-4769-8101-dafd311aa3cc",
   "metadata": {},
   "source": [
    "# Prepare Results"
   ]
  },
  {
   "cell_type": "code",
   "execution_count": 606,
   "id": "dbfca084-d217-4289-82a5-3b776771c5df",
   "metadata": {
    "tags": []
   },
   "outputs": [
    {
     "data": {
      "text/html": [
       "<div>\n",
       "<style scoped>\n",
       "    .dataframe tbody tr th:only-of-type {\n",
       "        vertical-align: middle;\n",
       "    }\n",
       "\n",
       "    .dataframe tbody tr th {\n",
       "        vertical-align: top;\n",
       "    }\n",
       "\n",
       "    .dataframe thead th {\n",
       "        text-align: right;\n",
       "    }\n",
       "</style>\n",
       "<table border=\"1\" class=\"dataframe\">\n",
       "  <thead>\n",
       "    <tr style=\"text-align: right;\">\n",
       "      <th></th>\n",
       "      <th>Type</th>\n",
       "      <th>NI_MSE</th>\n",
       "      <th>QL_MSE</th>\n",
       "      <th>LES_MSE</th>\n",
       "      <th>LCS_MSE</th>\n",
       "      <th>DT_MSE</th>\n",
       "      <th>RF_MSE</th>\n",
       "      <th>GB_MSE</th>\n",
       "    </tr>\n",
       "  </thead>\n",
       "  <tbody>\n",
       "    <tr>\n",
       "      <th>0</th>\n",
       "      <td>M/M/S</td>\n",
       "      <td>665.480529</td>\n",
       "      <td>24.289662</td>\n",
       "      <td>250.271869</td>\n",
       "      <td>267.306099</td>\n",
       "      <td>6.149235</td>\n",
       "      <td>5.147683</td>\n",
       "      <td>0.636165</td>\n",
       "    </tr>\n",
       "    <tr>\n",
       "      <th>0</th>\n",
       "      <td>N-State Q1</td>\n",
       "      <td>1253.205491</td>\n",
       "      <td>3523.517208</td>\n",
       "      <td>1963.443903</td>\n",
       "      <td>1951.522887</td>\n",
       "      <td>13.946480</td>\n",
       "      <td>12.756843</td>\n",
       "      <td>1.180754</td>\n",
       "    </tr>\n",
       "    <tr>\n",
       "      <th>0</th>\n",
       "      <td>N-State Q2</td>\n",
       "      <td>3593.826120</td>\n",
       "      <td>3265.843695</td>\n",
       "      <td>4189.856645</td>\n",
       "      <td>4238.605784</td>\n",
       "      <td>45.173423</td>\n",
       "      <td>41.159686</td>\n",
       "      <td>11.240114</td>\n",
       "    </tr>\n",
       "    <tr>\n",
       "      <th>0</th>\n",
       "      <td>N-State Overall</td>\n",
       "      <td>1859.473455</td>\n",
       "      <td>3456.774570</td>\n",
       "      <td>2540.129720</td>\n",
       "      <td>2543.923498</td>\n",
       "      <td>22.795801</td>\n",
       "      <td>20.642877</td>\n",
       "      <td>3.289483</td>\n",
       "    </tr>\n",
       "  </tbody>\n",
       "</table>\n",
       "</div>"
      ],
      "text/plain": [
       "              Type       NI_MSE       QL_MSE      LES_MSE      LCS_MSE  \\\n",
       "0            M/M/S   665.480529    24.289662   250.271869   267.306099   \n",
       "0       N-State Q1  1253.205491  3523.517208  1963.443903  1951.522887   \n",
       "0       N-State Q2  3593.826120  3265.843695  4189.856645  4238.605784   \n",
       "0  N-State Overall  1859.473455  3456.774570  2540.129720  2543.923498   \n",
       "\n",
       "      DT_MSE     RF_MSE     GB_MSE  \n",
       "0   6.149235   5.147683   0.636165  \n",
       "0  13.946480  12.756843   1.180754  \n",
       "0  45.173423  41.159686  11.240114  \n",
       "0  22.795801  20.642877   3.289483  "
      ]
     },
     "execution_count": 606,
     "metadata": {},
     "output_type": "execute_result"
    }
   ],
   "source": [
    "data = pd.concat([mms_results,Nst_results_q1,Nst_results_q2,Nst_results_overall])\n",
    "data"
   ]
  },
  {
   "cell_type": "code",
   "execution_count": 533,
   "id": "687a8d5b-1206-45f2-82a0-aa526c882a0e",
   "metadata": {
    "tags": []
   },
   "outputs": [],
   "source": [
    "#how do I normalize MSE results?\n",
    "data.to_csv('final_results.csv')"
   ]
  },
  {
   "cell_type": "code",
   "execution_count": 490,
   "id": "3bac3854-9b12-4e46-8378-1fb921153d31",
   "metadata": {
    "tags": []
   },
   "outputs": [
    {
     "data": {
      "text/html": [
       "<div>\n",
       "<style scoped>\n",
       "    .dataframe tbody tr th:only-of-type {\n",
       "        vertical-align: middle;\n",
       "    }\n",
       "\n",
       "    .dataframe tbody tr th {\n",
       "        vertical-align: top;\n",
       "    }\n",
       "\n",
       "    .dataframe thead th {\n",
       "        text-align: right;\n",
       "    }\n",
       "</style>\n",
       "<table border=\"1\" class=\"dataframe\">\n",
       "  <thead>\n",
       "    <tr style=\"text-align: right;\">\n",
       "      <th></th>\n",
       "      <th>arrival_time</th>\n",
       "      <th>ql</th>\n",
       "      <th>les</th>\n",
       "      <th>numBusy</th>\n",
       "      <th>delay</th>\n",
       "      <th>NI</th>\n",
       "      <th>ql_est</th>\n",
       "      <th>lcs</th>\n",
       "      <th>arr_pct</th>\n",
       "      <th>ql_2_avg</th>\n",
       "      <th>ql_5_avg</th>\n",
       "      <th>ql_10_avg</th>\n",
       "      <th>ql_20_avg</th>\n",
       "      <th>dh_2_avg</th>\n",
       "      <th>dh_5_avg</th>\n",
       "      <th>dh_10_avg</th>\n",
       "      <th>dh_20_avg</th>\n",
       "    </tr>\n",
       "  </thead>\n",
       "  <tbody>\n",
       "    <tr>\n",
       "      <th>0</th>\n",
       "      <td>2.198300</td>\n",
       "      <td>0.0</td>\n",
       "      <td>0.0</td>\n",
       "      <td>0.0</td>\n",
       "      <td>0.0</td>\n",
       "      <td>38.989641</td>\n",
       "      <td>0.0</td>\n",
       "      <td>0.0</td>\n",
       "      <td>0.004580</td>\n",
       "      <td>0.0</td>\n",
       "      <td>0.0</td>\n",
       "      <td>0.0</td>\n",
       "      <td>0.0</td>\n",
       "      <td>0.0</td>\n",
       "      <td>0.0</td>\n",
       "      <td>0.0</td>\n",
       "      <td>0.0</td>\n",
       "    </tr>\n",
       "    <tr>\n",
       "      <th>1</th>\n",
       "      <td>3.844900</td>\n",
       "      <td>0.0</td>\n",
       "      <td>0.0</td>\n",
       "      <td>1.0</td>\n",
       "      <td>0.0</td>\n",
       "      <td>38.989641</td>\n",
       "      <td>0.0</td>\n",
       "      <td>0.0</td>\n",
       "      <td>0.008010</td>\n",
       "      <td>0.0</td>\n",
       "      <td>0.0</td>\n",
       "      <td>0.0</td>\n",
       "      <td>0.0</td>\n",
       "      <td>0.0</td>\n",
       "      <td>0.0</td>\n",
       "      <td>0.0</td>\n",
       "      <td>0.0</td>\n",
       "    </tr>\n",
       "    <tr>\n",
       "      <th>2</th>\n",
       "      <td>3.904848</td>\n",
       "      <td>0.0</td>\n",
       "      <td>0.0</td>\n",
       "      <td>2.0</td>\n",
       "      <td>0.0</td>\n",
       "      <td>38.989641</td>\n",
       "      <td>0.0</td>\n",
       "      <td>0.0</td>\n",
       "      <td>0.008135</td>\n",
       "      <td>0.0</td>\n",
       "      <td>0.0</td>\n",
       "      <td>0.0</td>\n",
       "      <td>0.0</td>\n",
       "      <td>0.0</td>\n",
       "      <td>0.0</td>\n",
       "      <td>0.0</td>\n",
       "      <td>0.0</td>\n",
       "    </tr>\n",
       "    <tr>\n",
       "      <th>3</th>\n",
       "      <td>4.652426</td>\n",
       "      <td>0.0</td>\n",
       "      <td>0.0</td>\n",
       "      <td>3.0</td>\n",
       "      <td>0.0</td>\n",
       "      <td>38.989641</td>\n",
       "      <td>0.0</td>\n",
       "      <td>0.0</td>\n",
       "      <td>0.009693</td>\n",
       "      <td>0.0</td>\n",
       "      <td>0.0</td>\n",
       "      <td>0.0</td>\n",
       "      <td>0.0</td>\n",
       "      <td>0.0</td>\n",
       "      <td>0.0</td>\n",
       "      <td>0.0</td>\n",
       "      <td>0.0</td>\n",
       "    </tr>\n",
       "    <tr>\n",
       "      <th>4</th>\n",
       "      <td>8.403910</td>\n",
       "      <td>0.0</td>\n",
       "      <td>0.0</td>\n",
       "      <td>3.0</td>\n",
       "      <td>0.0</td>\n",
       "      <td>38.989641</td>\n",
       "      <td>0.0</td>\n",
       "      <td>0.0</td>\n",
       "      <td>0.017508</td>\n",
       "      <td>0.0</td>\n",
       "      <td>0.0</td>\n",
       "      <td>0.0</td>\n",
       "      <td>0.0</td>\n",
       "      <td>0.0</td>\n",
       "      <td>0.0</td>\n",
       "      <td>0.0</td>\n",
       "      <td>0.0</td>\n",
       "    </tr>\n",
       "  </tbody>\n",
       "</table>\n",
       "</div>"
      ],
      "text/plain": [
       "   arrival_time   ql  les  numBusy  delay         NI  ql_est  lcs   arr_pct  \\\n",
       "0      2.198300  0.0  0.0      0.0    0.0  38.989641     0.0  0.0  0.004580   \n",
       "1      3.844900  0.0  0.0      1.0    0.0  38.989641     0.0  0.0  0.008010   \n",
       "2      3.904848  0.0  0.0      2.0    0.0  38.989641     0.0  0.0  0.008135   \n",
       "3      4.652426  0.0  0.0      3.0    0.0  38.989641     0.0  0.0  0.009693   \n",
       "4      8.403910  0.0  0.0      3.0    0.0  38.989641     0.0  0.0  0.017508   \n",
       "\n",
       "   ql_2_avg  ql_5_avg  ql_10_avg  ql_20_avg  dh_2_avg  dh_5_avg  dh_10_avg  \\\n",
       "0       0.0       0.0        0.0        0.0       0.0       0.0        0.0   \n",
       "1       0.0       0.0        0.0        0.0       0.0       0.0        0.0   \n",
       "2       0.0       0.0        0.0        0.0       0.0       0.0        0.0   \n",
       "3       0.0       0.0        0.0        0.0       0.0       0.0        0.0   \n",
       "4       0.0       0.0        0.0        0.0       0.0       0.0        0.0   \n",
       "\n",
       "   dh_20_avg  \n",
       "0        0.0  \n",
       "1        0.0  \n",
       "2        0.0  \n",
       "3        0.0  \n",
       "4        0.0  "
      ]
     },
     "execution_count": 490,
     "metadata": {},
     "output_type": "execute_result"
    }
   ],
   "source": [
    "path_mms_df = pd.read_csv('mms_SimData_samplePath.csv')\n",
    "path_mms_df.head()"
   ]
  },
  {
   "cell_type": "code",
   "execution_count": 504,
   "id": "049deae7-e77a-4871-a036-8bee8aa15120",
   "metadata": {
    "tags": []
   },
   "outputs": [
    {
     "data": {
      "image/png": "[encoded data removed]",
      "text/plain": [
       "<Figure size 1200x400 with 2 Axes>"
      ]
     },
     "metadata": {},
     "output_type": "display_data"
    }
   ],
   "source": [
    "fig, ax = plt.subplots(2,1,figsize=(12,4))\n",
    "\n",
    "path_mms_df = pd.read_csv('mms_SimData_samplePath.csv')\n",
    "\n",
    "x = path_mms_df['arrival_time'].values\n",
    "y1= path_mms_df['delay'].values\n",
    "y2= path_mms_df['ql'].values\n",
    "\n",
    "ax[0].plot(x[100:],y1[100:],color='b')\n",
    "ax[1].plot(x[100:],y2[100:],color='r')\n",
    "\n",
    "\n",
    "#ax[0].set_title('Delay by Arrival Time')\n",
    "ax[0].set_ylabel('Delay')\n",
    "ax[0].set_xlabel('Arrival Time')\n",
    "ax[0].set_ylim(0, 100)\n",
    "\n",
    "\n",
    "#ax[1].set_title('Queue Length by Arrival Time')\n",
    "ax[1].set_ylabel('Queue Length')\n",
    "ax[1].set_xlabel('Arrival Time')\n",
    "ax[1].set_ylim(0, 100)\n",
    "\n",
    "plt.show()"
   ]
  },
  {
   "cell_type": "code",
   "execution_count": 565,
   "id": "0958b3c9-88ee-4643-815a-963ac1134cdf",
   "metadata": {
    "tags": []
   },
   "outputs": [
    {
     "data": {
      "text/html": [
       "<div>\n",
       "<style scoped>\n",
       "    .dataframe tbody tr th:only-of-type {\n",
       "        vertical-align: middle;\n",
       "    }\n",
       "\n",
       "    .dataframe tbody tr th {\n",
       "        vertical-align: top;\n",
       "    }\n",
       "\n",
       "    .dataframe thead th {\n",
       "        text-align: right;\n",
       "    }\n",
       "</style>\n",
       "<table border=\"1\" class=\"dataframe\">\n",
       "  <thead>\n",
       "    <tr style=\"text-align: right;\">\n",
       "      <th></th>\n",
       "      <th>arrival_time</th>\n",
       "      <th>ql</th>\n",
       "      <th>les</th>\n",
       "      <th>numBusy</th>\n",
       "      <th>delay</th>\n",
       "      <th>queue_type</th>\n",
       "      <th>ql_est</th>\n",
       "      <th>ql_2_avg</th>\n",
       "      <th>ql_5_avg</th>\n",
       "      <th>ql_10_avg</th>\n",
       "      <th>ql_20_avg</th>\n",
       "      <th>dh_2_avg</th>\n",
       "      <th>dh_5_avg</th>\n",
       "      <th>dh_10_avg</th>\n",
       "      <th>dh_20_avg</th>\n",
       "      <th>arr_pct</th>\n",
       "      <th>lcs</th>\n",
       "      <th>NI</th>\n",
       "    </tr>\n",
       "  </thead>\n",
       "  <tbody>\n",
       "    <tr>\n",
       "      <th>0</th>\n",
       "      <td>13.806791</td>\n",
       "      <td>0.0</td>\n",
       "      <td>0.0</td>\n",
       "      <td>0.0</td>\n",
       "      <td>0.0</td>\n",
       "      <td>2.0</td>\n",
       "      <td>0.0</td>\n",
       "      <td>0.0</td>\n",
       "      <td>0.0</td>\n",
       "      <td>0.0</td>\n",
       "      <td>0.0</td>\n",
       "      <td>0.0</td>\n",
       "      <td>0.0</td>\n",
       "      <td>0.0</td>\n",
       "      <td>0.0</td>\n",
       "      <td>0.028764</td>\n",
       "      <td>0.0</td>\n",
       "      <td>25.516055</td>\n",
       "    </tr>\n",
       "    <tr>\n",
       "      <th>1</th>\n",
       "      <td>17.119716</td>\n",
       "      <td>0.0</td>\n",
       "      <td>0.0</td>\n",
       "      <td>0.0</td>\n",
       "      <td>0.0</td>\n",
       "      <td>2.0</td>\n",
       "      <td>0.0</td>\n",
       "      <td>0.0</td>\n",
       "      <td>0.0</td>\n",
       "      <td>0.0</td>\n",
       "      <td>0.0</td>\n",
       "      <td>0.0</td>\n",
       "      <td>0.0</td>\n",
       "      <td>0.0</td>\n",
       "      <td>0.0</td>\n",
       "      <td>0.035666</td>\n",
       "      <td>0.0</td>\n",
       "      <td>25.516055</td>\n",
       "    </tr>\n",
       "    <tr>\n",
       "      <th>2</th>\n",
       "      <td>18.417208</td>\n",
       "      <td>0.0</td>\n",
       "      <td>0.0</td>\n",
       "      <td>1.0</td>\n",
       "      <td>0.0</td>\n",
       "      <td>2.0</td>\n",
       "      <td>0.0</td>\n",
       "      <td>0.0</td>\n",
       "      <td>0.0</td>\n",
       "      <td>0.0</td>\n",
       "      <td>0.0</td>\n",
       "      <td>0.0</td>\n",
       "      <td>0.0</td>\n",
       "      <td>0.0</td>\n",
       "      <td>0.0</td>\n",
       "      <td>0.038369</td>\n",
       "      <td>0.0</td>\n",
       "      <td>25.516055</td>\n",
       "    </tr>\n",
       "    <tr>\n",
       "      <th>3</th>\n",
       "      <td>23.654574</td>\n",
       "      <td>0.0</td>\n",
       "      <td>0.0</td>\n",
       "      <td>0.0</td>\n",
       "      <td>0.0</td>\n",
       "      <td>2.0</td>\n",
       "      <td>0.0</td>\n",
       "      <td>0.0</td>\n",
       "      <td>0.0</td>\n",
       "      <td>0.0</td>\n",
       "      <td>0.0</td>\n",
       "      <td>0.0</td>\n",
       "      <td>0.0</td>\n",
       "      <td>0.0</td>\n",
       "      <td>0.0</td>\n",
       "      <td>0.049280</td>\n",
       "      <td>0.0</td>\n",
       "      <td>25.516055</td>\n",
       "    </tr>\n",
       "    <tr>\n",
       "      <th>4</th>\n",
       "      <td>30.964803</td>\n",
       "      <td>0.0</td>\n",
       "      <td>0.0</td>\n",
       "      <td>0.0</td>\n",
       "      <td>0.0</td>\n",
       "      <td>2.0</td>\n",
       "      <td>0.0</td>\n",
       "      <td>0.0</td>\n",
       "      <td>0.0</td>\n",
       "      <td>0.0</td>\n",
       "      <td>0.0</td>\n",
       "      <td>0.0</td>\n",
       "      <td>0.0</td>\n",
       "      <td>0.0</td>\n",
       "      <td>0.0</td>\n",
       "      <td>0.064510</td>\n",
       "      <td>0.0</td>\n",
       "      <td>25.516055</td>\n",
       "    </tr>\n",
       "  </tbody>\n",
       "</table>\n",
       "</div>"
      ],
      "text/plain": [
       "   arrival_time   ql  les  numBusy  delay  queue_type  ql_est  ql_2_avg  \\\n",
       "0     13.806791  0.0  0.0      0.0    0.0         2.0     0.0       0.0   \n",
       "1     17.119716  0.0  0.0      0.0    0.0         2.0     0.0       0.0   \n",
       "2     18.417208  0.0  0.0      1.0    0.0         2.0     0.0       0.0   \n",
       "3     23.654574  0.0  0.0      0.0    0.0         2.0     0.0       0.0   \n",
       "4     30.964803  0.0  0.0      0.0    0.0         2.0     0.0       0.0   \n",
       "\n",
       "   ql_5_avg  ql_10_avg  ql_20_avg  dh_2_avg  dh_5_avg  dh_10_avg  dh_20_avg  \\\n",
       "0       0.0        0.0        0.0       0.0       0.0        0.0        0.0   \n",
       "1       0.0        0.0        0.0       0.0       0.0        0.0        0.0   \n",
       "2       0.0        0.0        0.0       0.0       0.0        0.0        0.0   \n",
       "3       0.0        0.0        0.0       0.0       0.0        0.0        0.0   \n",
       "4       0.0        0.0        0.0       0.0       0.0        0.0        0.0   \n",
       "\n",
       "    arr_pct  lcs         NI  \n",
       "0  0.028764  0.0  25.516055  \n",
       "1  0.035666  0.0  25.516055  \n",
       "2  0.038369  0.0  25.516055  \n",
       "3  0.049280  0.0  25.516055  \n",
       "4  0.064510  0.0  25.516055  "
      ]
     },
     "execution_count": 565,
     "metadata": {},
     "output_type": "execute_result"
    }
   ],
   "source": [
    "path_ns_df = pd.read_csv('Nstate_SimData_samplePath.csv')\n",
    "path_ns_df.head()"
   ]
  },
  {
   "cell_type": "code",
   "execution_count": 586,
   "id": "d12f83ea-c69e-4765-99f0-58dd6288e8bc",
   "metadata": {
    "tags": []
   },
   "outputs": [
    {
     "data": {
      "image/png": "[encoded data removed]",
      "text/plain": [
       "<Figure size 1200x400 with 2 Axes>"
      ]
     },
     "metadata": {},
     "output_type": "display_data"
    }
   ],
   "source": [
    "fig, ax = plt.subplots(2,1,figsize=(12,4))\n",
    "\n",
    "q1_path = path_ns_df[path_ns_df['queue_type']==1].copy()\n",
    "q2_path = path_ns_df[path_ns_df['queue_type']==2].copy()\n",
    "\n",
    "x_q1 = q1_path['arrival_time'].values\n",
    "x_q2 = q2_path['arrival_time'].values\n",
    "y1_q1= q1_path['delay'].values\n",
    "y2_q1= q1_path['ql'].values\n",
    "y1_q2= q2_path['delay'].values\n",
    "y2_q2= q2_path['ql'].values\n",
    "\n",
    "ax[0].plot(x_q1,y1_q1,color='b')\n",
    "ax[0].plot(x_q2,y1_q2,color='r')\n",
    "ax[1].plot(x_q1,y2_q1,color='b')\n",
    "ax[1].plot(x_q2,y2_q2,color='r')\n",
    "\n",
    "\n",
    "\n",
    "#ax[0].set_title('Delay by Arrival Time')\n",
    "ax[0].set_ylabel('Delay')\n",
    "ax[0].set_xlabel('Arrival Time')\n",
    "ax[0].set_ylim(0, 200)\n",
    "ax[0].legend(['Queue 1','Queue 2'])\n",
    "\n",
    "#ax[1].set_title('Queue Length by Arrival Time')\n",
    "ax[1].set_ylabel('Queue Length')\n",
    "ax[1].set_xlabel('Arrival Time')\n",
    "ax[1].set_ylim(0, 100)\n",
    "ax[1].legend(['Queue 1','Queue 2'])\n",
    "\n",
    "plt.show()"
   ]
  }
 ],
 "metadata": {
  "kernelspec": {
   "display_name": "Python 3 (ipykernel)",
   "language": "python",
   "name": "python3"
  },
  "language_info": {
   "codemirror_mode": {
    "name": "ipython",
    "version": 3
   },
   "file_extension": ".py",
   "mimetype": "text/x-python",
   "name": "python",
   "nbconvert_exporter": "python",
   "pygments_lexer": "ipython3",
   "version": "3.11.5"
  }
 },
 "nbformat": 4,
 "nbformat_minor": 5
}
